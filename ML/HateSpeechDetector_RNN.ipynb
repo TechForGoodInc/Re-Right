{
  "nbformat": 4,
  "nbformat_minor": 0,
  "metadata": {
    "colab": {
      "name": "Hate Speech Detector - RNN.ipynb",
      "provenance": [],
      "collapsed_sections": []
    },
    "kernelspec": {
      "display_name": "Python 3",
      "name": "python3"
    },
    "language_info": {
      "name": "python"
    }
  },
  "cells": [
    {
      "cell_type": "markdown",
      "metadata": {
        "id": "J81lE23WxIQP"
      },
      "source": [
        "# **Hate Speech Detector using R-NN**"
      ]
    },
    {
      "cell_type": "markdown",
      "metadata": {
        "id": "D-R00RrEjhjE"
      },
      "source": [
        "**Shayling Zhao**"
      ]
    },
    {
      "cell_type": "code",
      "metadata": {
        "colab": {
          "base_uri": "https://localhost:8080/"
        },
        "id": "0vx92Ik_b0jO",
        "outputId": "879fd1f7-9814-4d45-fd90-252357e35440"
      },
      "source": [
        "import pandas as pd\n",
        "import numpy as np\n",
        "from sklearn.model_selection import train_test_split\n",
        "from nltk.corpus import stopwords\n",
        "import nltk\n",
        "nltk.download('stopwords')\n",
        "import math\n",
        "from sklearn.metrics import accuracy_score\n",
        "from sklearn.metrics import precision_score, recall_score, f1_score\n",
        "from sklearn.metrics import confusion_matrix"
      ],
      "execution_count": 1,
      "outputs": [
        {
          "output_type": "stream",
          "text": [
            "[nltk_data] Downloading package stopwords to /root/nltk_data...\n",
            "[nltk_data]   Unzipping corpora/stopwords.zip.\n"
          ],
          "name": "stdout"
        }
      ]
    },
    {
      "cell_type": "markdown",
      "metadata": {
        "id": "MgVpokztxI-8"
      },
      "source": [
        "**Reading in CSV file using pandas and converting author column to categorical data. Displaying first few rows and counts by author:**\n"
      ]
    },
    {
      "cell_type": "code",
      "metadata": {
        "colab": {
          "base_uri": "https://localhost:8080/"
        },
        "id": "FopJNTtfmk_X",
        "outputId": "94719ee7-b7c4-4db2-adc3-17523e385521"
      },
      "source": [
        "data = pd.read_csv(\"hatespeech.csv\") # Read in csv file\n",
        "data[\"label\"] = data[\"label\"].astype('category') # Convert to category\n",
        "data[\"text\"] = data[\"text\"].astype('string') # Convert text to string\n",
        "print(data.dtypes) # Check data types\n",
        "data.head() # Print first few rows\n",
        "print(\"\\n\")\n",
        "print(data.head()) # Printing first few lines of file\n",
        "print(\"\\n\")\n",
        "count = data['label'].value_counts() # Running count of type freqency\n",
        "print('Frequency of Hate Speech (1) and No Hate Speech (0):\\n\\n', count) \n",
        "\n",
        "corpus = data[\"text\"].str.lower()"
      ],
      "execution_count": 2,
      "outputs": [
        {
          "output_type": "stream",
          "text": [
            "Unnamed: 0       int64\n",
            "text            string\n",
            "label         category\n",
            "dtype: object\n",
            "\n",
            "\n",
            "   Unnamed: 0                                               text label\n",
            "0           0  It should be legal for a husband to rape his wife     1\n",
            "1           1                            dalits are lowlife scum     1\n",
            "2           2                                dalits are lowlives     1\n",
            "3           3  It was a better world when women dare not ques...     1\n",
            "4           4  I don't work this hard so that those immigrant...     1\n",
            "\n",
            "\n",
            "Frequency of Hate Speech (1) and No Hate Speech (0):\n",
            "\n",
            " 0    48219\n",
            "1    24366\n",
            "Name: label, dtype: int64\n"
          ],
          "name": "stdout"
        }
      ]
    },
    {
      "cell_type": "markdown",
      "metadata": {
        "id": "yhupfeppE5jy"
      },
      "source": [
        "**Making sure TensorFlow 2.x is used**"
      ]
    },
    {
      "cell_type": "code",
      "metadata": {
        "id": "4HOq4j4iGUMn"
      },
      "source": [
        "try:\n",
        "  %tensorflow_version 2.x\n",
        "except Exception:\n",
        "  pass"
      ],
      "execution_count": 3,
      "outputs": []
    },
    {
      "cell_type": "markdown",
      "metadata": {
        "id": "GdAS8SKVe_7H"
      },
      "source": [
        "**Preprocessing Text:**"
      ]
    },
    {
      "cell_type": "code",
      "metadata": {
        "id": "yRKv3R2mfE6m"
      },
      "source": [
        "import tensorflow as tf\n",
        "\n",
        "from tensorflow.keras.preprocessing.sequence import pad_sequences\n",
        "from tensorflow.keras.preprocessing.text import Tokenizer\n",
        "from tensorflow.keras.models import Sequential\n",
        "import numpy as np"
      ],
      "execution_count": 4,
      "outputs": []
    },
    {
      "cell_type": "code",
      "metadata": {
        "colab": {
          "base_uri": "https://localhost:8080/"
        },
        "id": "mLf_CJP2S_14",
        "outputId": "cef569b2-bcc2-4b53-b3e7-5e80b82a732c"
      },
      "source": [
        "vocab_size = 10000\n",
        "embedding_dim = 64\n",
        "max_length = 50\n",
        "\n",
        "X = corpus\n",
        "y = data.label\n",
        "X_train, X_test, y_train, y_test = train_test_split(X, y, \n",
        "            test_size=0.2, train_size=0.8, random_state=1234)\n",
        "\n",
        "# Tokenize and take most frequent 5000 words\n",
        "# Replacing all words that are not recognized with \"<OOV>\"\n",
        "tokens = Tokenizer(num_words=vocab_size, oov_token=\"<OOV>\")\n",
        "\n",
        "# Go through all the text and fit itself to the corpus. \n",
        "tokens.fit_on_texts(X_train)\n",
        "# Full list of words is available as the tokenizer's word index property\n",
        "word_index = tokens.word_index\n",
        "\n",
        "# Creating numerical sequences that represent the sentences\n",
        "train_sequences = tokens.texts_to_sequences(X_train) # For training data\n",
        "# Handling sentences with different lengths by adding zeros at the end\n",
        "train_padded = pad_sequences(train_sequences, maxlen=max_length,\n",
        "                             padding='post', truncating='post')# For training data\n",
        "\n",
        "test_sequences = tokens.texts_to_sequences(X_test) # For testing data\n",
        "test_padded = pad_sequences(test_sequences, maxlen=max_length,\n",
        "                            padding='post', truncating='post') # For testing data\n",
        "\n",
        "# (number of sequences, each with this number of tokens)\n",
        "print(train_padded.shape)\n",
        "print(test_padded.shape)"
      ],
      "execution_count": 5,
      "outputs": [
        {
          "output_type": "stream",
          "text": [
            "(58068, 50)\n",
            "(14517, 50)\n"
          ],
          "name": "stdout"
        }
      ]
    },
    {
      "cell_type": "markdown",
      "metadata": {
        "id": "S_e9ChmPJSRV"
      },
      "source": [
        "**Ensure it works:**\n",
        "\n"
      ]
    },
    {
      "cell_type": "code",
      "metadata": {
        "id": "eCWjAlyMJWte"
      },
      "source": [
        "import numpy as np\n",
        "train_padded = np.array(train_padded)\n",
        "y_train = np.array(y_train)\n",
        "test_padded = np.array(test_padded)\n",
        "y_test = np.array(y_test)"
      ],
      "execution_count": 6,
      "outputs": []
    },
    {
      "cell_type": "markdown",
      "metadata": {
        "id": "TGz_30IjuVXV"
      },
      "source": [
        "# **Trying Recurrent Neural Networks:**"
      ]
    },
    {
      "cell_type": "code",
      "metadata": {
        "colab": {
          "base_uri": "https://localhost:8080/"
        },
        "id": "g3J8P8cuUdX4",
        "outputId": "2b3ad5e4-2dd3-4765-dd98-44b14a99d1df"
      },
      "source": [
        "\n",
        "\n",
        "# Building the model:\n",
        "model = tf.keras.Sequential([\n",
        "                             tf.keras.layers.Embedding(vocab_size, embedding_dim, input_length=max_length),\n",
        "                             # First:\n",
        "                             tf.keras.layers.Bidirectional(tf.keras.layers.LSTM(embedding_dim)),\n",
        "                             tf.keras.layers.Dense(24, activation='relu'),\n",
        "                             tf.keras.layers.Dense(1, activation='sigmoid')\n",
        "])\n",
        "model.compile(loss='binary_crossentropy', optimizer='adam', metrics=['accuracy'])\n",
        "\n",
        "\n",
        "\n",
        "num_epochs = 5\n",
        "history = model.fit(train_padded, y_train, epochs=num_epochs, validation_data=(test_padded, y_test), verbose=2)"
      ],
      "execution_count": 7,
      "outputs": [
        {
          "output_type": "stream",
          "text": [
            "Epoch 1/5\n",
            "1815/1815 - 103s - loss: 0.4169 - accuracy: 0.7889 - val_loss: 0.3618 - val_accuracy: 0.8258\n",
            "Epoch 2/5\n",
            "1815/1815 - 97s - loss: 0.3156 - accuracy: 0.8504 - val_loss: 0.3458 - val_accuracy: 0.8329\n",
            "Epoch 3/5\n",
            "1815/1815 - 97s - loss: 0.2648 - accuracy: 0.8755 - val_loss: 0.3394 - val_accuracy: 0.8415\n",
            "Epoch 4/5\n",
            "1815/1815 - 97s - loss: 0.2276 - accuracy: 0.8942 - val_loss: 0.3639 - val_accuracy: 0.8444\n",
            "Epoch 5/5\n",
            "1815/1815 - 97s - loss: 0.1955 - accuracy: 0.9109 - val_loss: 0.3969 - val_accuracy: 0.8456\n"
          ],
          "name": "stdout"
        }
      ]
    },
    {
      "cell_type": "markdown",
      "metadata": {
        "id": "obWtz_g5qF7j"
      },
      "source": [
        "First - Defining we want an LSTM style layer. It takes a numeric parameter for the number of hidden nodes within it, and this is also the dimensionality of the output space from this layer. Bidirectional will look at your sentence forwards and backwards, learn the best parameters for each, and merges them. "
      ]
    },
    {
      "cell_type": "markdown",
      "metadata": {
        "id": "myJXPIFopKkS"
      },
      "source": [
        "As you can see here, the algo starts to overfit after it goes past the 3rd epoch. Because the accuracy starts to significantly surpass the validation accuracy. The accuracy and validation accuracy shouldn't be too much different from one another. "
      ]
    },
    {
      "cell_type": "markdown",
      "metadata": {
        "id": "xGAnu42Jv_1o"
      },
      "source": [
        "**Plotting the Chart:**"
      ]
    },
    {
      "cell_type": "code",
      "metadata": {
        "colab": {
          "base_uri": "https://localhost:8080/",
          "height": 541
        },
        "id": "Bg3XARuruQxB",
        "outputId": "2897874d-754b-4ea8-f453-26191cedfbe4"
      },
      "source": [
        "import matplotlib.pyplot as plt\n",
        "\n",
        "def plot_graphs(history, string):\n",
        "  plt.plot(history.history[string])\n",
        "  plt.plot(history.history['val_'+string])\n",
        "  plt.xlabel(\"Epochs\")\n",
        "  plt.ylabel(string)\n",
        "  plt.legend([string, 'val_'+string])\n",
        "  plt.show()\n",
        "\n",
        "plot_graphs(history, \"accuracy\")\n",
        "plot_graphs(history, \"loss\")"
      ],
      "execution_count": 8,
      "outputs": [
        {
          "output_type": "display_data",
          "data": {
            "image/png": "[encoded data removed]",
            "text/plain": [
              "<Figure size 432x288 with 1 Axes>"
            ]
          },
          "metadata": {
            "tags": [],
            "needs_background": "light"
          }
        },
        {
          "output_type": "display_data",
          "data": {
            "image/png": "[encoded data removed]",
            "text/plain": [
              "<Figure size 432x288 with 1 Axes>"
            ]
          },
          "metadata": {
            "tags": [],
            "needs_background": "light"
          }
        }
      ]
    },
    {
      "cell_type": "markdown",
      "metadata": {
        "id": "q87_xRPovxRe"
      },
      "source": [
        "**As you can see here, clear overfitting is happening because the val_accuracy is way lower than the accuracy. The val_accuracy refers to the \"validation set\". This refers to a set of samples that was not shown to the network during training and hence refers to how much your model works in general for cases outside the training set.**"
      ]
    },
    {
      "cell_type": "markdown",
      "metadata": {
        "id": "nzO9e74KwCzI"
      },
      "source": [
        "# **ROC Analysis:**"
      ]
    },
    {
      "cell_type": "code",
      "metadata": {
        "colab": {
          "base_uri": "https://localhost:8080/"
        },
        "id": "q4nglAfi6eel",
        "outputId": "7f54dda4-f9f1-4c31-82b8-0afaf5506622"
      },
      "source": [
        "model.compile(optimizer=tf.keras.optimizers.Adam(0.0001),\n",
        "                                  loss=tf.keras.losses.BinaryCrossentropy(label_smoothing=0),  # can experiment with label smoothing values\n",
        "                                  metrics=['binary_accuracy', \n",
        "                                           tf.keras.metrics.AUC(num_thresholds=200, curve='ROC', name='ROC'),\n",
        "                                           tf.keras.metrics.AUC(num_thresholds=200, curve='PR', name='Precision-Recall')],\n",
        "                                  steps_per_execution=4)\n",
        "\n",
        "history = model.fit(train_padded, y_train, epochs=num_epochs, validation_data=(test_padded, y_test), verbose=2)"
      ],
      "execution_count": 9,
      "outputs": [
        {
          "output_type": "stream",
          "text": [
            "Epoch 1/5\n",
            "1815/1815 - 107s - loss: 0.1397 - binary_accuracy: 0.9385 - ROC: 0.9867 - Precision-Recall: 0.9744 - val_loss: 0.4565 - val_binary_accuracy: 0.8427 - val_ROC: 0.9105 - val_Precision-Recall: 0.8403\n",
            "Epoch 2/5\n",
            "1815/1815 - 97s - loss: 0.1265 - binary_accuracy: 0.9450 - ROC: 0.9890 - Precision-Recall: 0.9788 - val_loss: 0.5087 - val_binary_accuracy: 0.8427 - val_ROC: 0.9067 - val_Precision-Recall: 0.8326\n",
            "Epoch 3/5\n",
            "1815/1815 - 97s - loss: 0.1173 - binary_accuracy: 0.9493 - ROC: 0.9905 - Precision-Recall: 0.9817 - val_loss: 0.5407 - val_binary_accuracy: 0.8421 - val_ROC: 0.9030 - val_Precision-Recall: 0.8250\n",
            "Epoch 4/5\n",
            "1815/1815 - 97s - loss: 0.1100 - binary_accuracy: 0.9527 - ROC: 0.9916 - Precision-Recall: 0.9836 - val_loss: 0.5545 - val_binary_accuracy: 0.8414 - val_ROC: 0.9019 - val_Precision-Recall: 0.8234\n",
            "Epoch 5/5\n",
            "1815/1815 - 98s - loss: 0.1031 - binary_accuracy: 0.9562 - ROC: 0.9925 - Precision-Recall: 0.9855 - val_loss: 0.6019 - val_binary_accuracy: 0.8388 - val_ROC: 0.8981 - val_Precision-Recall: 0.8131\n"
          ],
          "name": "stdout"
        }
      ]
    },
    {
      "cell_type": "markdown",
      "metadata": {
        "id": "t0j4cdFwwV5j"
      },
      "source": [
        "**ROC came out to be almost 1 which is excellent!**"
      ]
    }
  ]
}