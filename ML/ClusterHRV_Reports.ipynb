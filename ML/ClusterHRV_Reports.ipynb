{
  "nbformat": 4,
  "nbformat_minor": 0,
  "metadata": {
    "colab": {
      "name": "ClusterHRV_Reports",
      "provenance": [],
      "collapsed_sections": [],
      "machine_shape": "hm"
    },
    "kernelspec": {
      "name": "python3",
      "display_name": "Python 3"
    },
    "language_info": {
      "name": "python"
    }
  },
  "cells": [
    {
      "cell_type": "markdown",
      "metadata": {
        "id": "beSxVUZpBYdN"
      },
      "source": [
        "# Gaussian Mixture Model for identifying similarities among reports of human rights violations.\n",
        "\n",
        "The model is built using Scikit-Learn's and both text-preprocessor and dataset from the paper [*Paragraph-level Rationale Extraction through Regularization: A case study on European Court of Human Rights Cases*](https://arxiv.org/abs/2103.13084) together with Scikit-Learn's model building tools to train the mixture model. "
      ]
    },
    {
      "cell_type": "markdown",
      "metadata": {
        "id": "hioARJbgkprB"
      },
      "source": [
        "CITATIONS\n",
        "\n",
        "Dataset:\n",
        "\n",
        "- @misc{chalkidis2021paragraphlevel,\n",
        "      title={Paragraph-level Rationale Extraction through Regularization: A case study on European Court of Human Rights Cases}, \n",
        "      author={Ilias Chalkidis and Manos Fergadiotis and Dimitrios Tsarapatsanis and Nikolaos Aletras and Ion Androutsopoulos and Prodromos Malakasiotis},\n",
        "      year={2021},\n",
        "      eprint={2103.13084},\n",
        "      archivePrefix={arXiv},\n",
        "      primaryClass={cs.CL}\n",
        "}\n",
        "\n",
        "Dataset Repo:\n",
        "\n",
        "- https://www.kaggle.com/mathurinache/ecthrnaacl2021\n",
        "\n",
        "Text Encoding: LEGAL BERT Model series by:\n",
        "\n",
        "- I. Chalkidis, M. Fergadiotis, P. Malakasiotis, N. Aletras and I. Androutsopoulos. \n",
        "\"LEGAL-BERT: The Muppets straight out of Law School\". \n",
        "In Findings of Empirical Methods in Natural Language Processing (EMNLP 2020) \n",
        "(Short Papers), to be held online, 2020. (https://aclanthology.org/2020.findings-emnlp.261)\n",
        "\n",
        "Pretrained Model Repo / Implementation:\n",
        "\n",
        "- https://huggingface.co/nlpaueb/legal-bert-base-uncased"
      ]
    },
    {
      "cell_type": "markdown",
      "metadata": {
        "id": "Lx3eXn-_qfrM"
      },
      "source": [
        "## Imports"
      ]
    },
    {
      "cell_type": "code",
      "metadata": {
        "id": "cF2wQJOpuVL1",
        "colab": {
          "base_uri": "https://localhost:8080/"
        },
        "outputId": "df13e5e5-7b3f-4501-e9aa-ad64696e646e"
      },
      "source": [
        "import pandas as pd\n",
        "import json\n",
        "import os\n",
        "import numpy as np\n",
        "from sklearn.decomposition import PCA\n",
        "from sklearn.mixture import BayesianGaussianMixture\n",
        "from sklearn.feature_extraction.text import TfidfVectorizer\n",
        "\n",
        "# PyTorch\n",
        "import torch\n",
        "\n",
        "# Pretrained Transformers from HuggingFace\n",
        "!pip install transformers\n",
        "from transformers import AutoTokenizer, AutoModel"
      ],
      "execution_count": null,
      "outputs": [
        {
          "output_type": "stream",
          "text": [
            "Requirement already satisfied: transformers in /usr/local/lib/python3.7/dist-packages (4.9.1)\n",
            "Requirement already satisfied: tokenizers<0.11,>=0.10.1 in /usr/local/lib/python3.7/dist-packages (from transformers) (0.10.3)\n",
            "Requirement already satisfied: pyyaml>=5.1 in /usr/local/lib/python3.7/dist-packages (from transformers) (5.4.1)\n",
            "Requirement already satisfied: huggingface-hub==0.0.12 in /usr/local/lib/python3.7/dist-packages (from transformers) (0.0.12)\n",
            "Requirement already satisfied: requests in /usr/local/lib/python3.7/dist-packages (from transformers) (2.23.0)\n",
            "Requirement already satisfied: filelock in /usr/local/lib/python3.7/dist-packages (from transformers) (3.0.12)\n",
            "Requirement already satisfied: regex!=2019.12.17 in /usr/local/lib/python3.7/dist-packages (from transformers) (2019.12.20)\n",
            "Requirement already satisfied: numpy>=1.17 in /usr/local/lib/python3.7/dist-packages (from transformers) (1.19.5)\n",
            "Requirement already satisfied: importlib-metadata in /usr/local/lib/python3.7/dist-packages (from transformers) (4.6.1)\n",
            "Requirement already satisfied: packaging in /usr/local/lib/python3.7/dist-packages (from transformers) (21.0)\n",
            "Requirement already satisfied: tqdm>=4.27 in /usr/local/lib/python3.7/dist-packages (from transformers) (4.41.1)\n",
            "Requirement already satisfied: sacremoses in /usr/local/lib/python3.7/dist-packages (from transformers) (0.0.45)\n",
            "Requirement already satisfied: typing-extensions in /usr/local/lib/python3.7/dist-packages (from huggingface-hub==0.0.12->transformers) (3.7.4.3)\n",
            "Requirement already satisfied: pyparsing>=2.0.2 in /usr/local/lib/python3.7/dist-packages (from packaging->transformers) (2.4.7)\n",
            "Requirement already satisfied: zipp>=0.5 in /usr/local/lib/python3.7/dist-packages (from importlib-metadata->transformers) (3.5.0)\n",
            "Requirement already satisfied: chardet<4,>=3.0.2 in /usr/local/lib/python3.7/dist-packages (from requests->transformers) (3.0.4)\n",
            "Requirement already satisfied: certifi>=2017.4.17 in /usr/local/lib/python3.7/dist-packages (from requests->transformers) (2021.5.30)\n",
            "Requirement already satisfied: idna<3,>=2.5 in /usr/local/lib/python3.7/dist-packages (from requests->transformers) (2.10)\n",
            "Requirement already satisfied: urllib3!=1.25.0,!=1.25.1,<1.26,>=1.21.1 in /usr/local/lib/python3.7/dist-packages (from requests->transformers) (1.24.3)\n",
            "Requirement already satisfied: joblib in /usr/local/lib/python3.7/dist-packages (from sacremoses->transformers) (1.0.1)\n",
            "Requirement already satisfied: six in /usr/local/lib/python3.7/dist-packages (from sacremoses->transformers) (1.15.0)\n",
            "Requirement already satisfied: click in /usr/local/lib/python3.7/dist-packages (from sacremoses->transformers) (7.1.2)\n"
          ],
          "name": "stdout"
        }
      ]
    },
    {
      "cell_type": "code",
      "metadata": {
        "colab": {
          "base_uri": "https://localhost:8080/"
        },
        "id": "tNrZAuyC2iR7",
        "outputId": "d8e50d49-e58b-4eba-c9ba-1e98590df96a"
      },
      "source": [
        "from google.colab import drive\n",
        "drive.mount('/content/drive')\n",
        "\n",
        "DATASETS_FOLDER = '/content/drive/MyDrive/Colab_Notebooks/models/ReRight/datasets'"
      ],
      "execution_count": null,
      "outputs": [
        {
          "output_type": "stream",
          "text": [
            "Drive already mounted at /content/drive; to attempt to forcibly remount, call drive.mount(\"/content/drive\", force_remount=True).\n"
          ],
          "name": "stdout"
        }
      ]
    },
    {
      "cell_type": "markdown",
      "metadata": {
        "id": "HcpdNC7nUF2l"
      },
      "source": [
        "# Datasets"
      ]
    },
    {
      "cell_type": "code",
      "metadata": {
        "id": "cutM0XywuXle"
      },
      "source": [
        "\"\"\"\n",
        "Dataset: custom Twitter query results\n",
        "\"\"\"\n",
        "\n",
        "# parsing function\n",
        "def load_big_qury_json_to_pd(filename):\n",
        "    with open(filename) as f:\n",
        "\n",
        "        info = json.load(f)\n",
        "\n",
        "    info_dict = {}\n",
        "    info[0]['data']\n",
        "\n",
        "    for key in info[0]['data'][0]:\n",
        "        info_dict[key] = [info[0]['data'][i][key] for i in range(len(info[0]['data']))]\n",
        "\n",
        "    df = pd.DataFrame(info_dict)  # conbert to pandas DataFrame\n",
        "    df = df.sample(frac=1.0,  random_state=222)  # shuffle all data\n",
        "\n",
        "    return  df\n",
        "\n",
        "#dataframe_twitter = load_big_qury_json_to_pd(os.path.join(DATASETS_FOLDER, 'results-20210802-171411.json'))"
      ],
      "execution_count": null,
      "outputs": []
    },
    {
      "cell_type": "code",
      "metadata": {
        "id": "s8yaS_06UAMT"
      },
      "source": [
        "\"\"\"\n",
        "Dataset: *https://www.kaggle.com/mathurinache/ecthrnaacl2021*\n",
        "\"\"\"\n",
        "\n",
        "# parsing function\n",
        "#sample_size: Max 1000. note: system crashes if full dataset is used with bert transformer\n",
        "NUM_SAMPLES = 1000\n",
        "\n",
        "def dict_from_european_court_json(filename='/content/dev.jsonl', sample_size=NUM_SAMPLES):\n",
        "    \n",
        "\n",
        "    info_dict = {}\n",
        "\n",
        "    with open(filename) as f:\n",
        "        all_info = f.readlines()\n",
        "\n",
        "        dicts_list = [json.loads(info) for info in all_info]\n",
        "\n",
        "        for single_dict in dicts_list:\n",
        "            for key, val in single_dict.items():\n",
        "                if key in info_dict:\n",
        "                    info_dict[key].append(val)\n",
        "                else:\n",
        "                    info_dict[key] =[val]\n",
        "        df = pd.DataFrame(info_dict)\n",
        "\n",
        "    df = df.sample(frac=1.0,  random_state=222)  # shuffle all data\n",
        "    \n",
        "    df = df[:sample_size]\n",
        "\n",
        "    return df\n",
        "\n",
        "subfolder = 'EuropeanCriminalCourt'\n",
        "filename = 'dev.jsonl'\n",
        "dataframe_human_rights = dict_from_european_court_json(os.path.join(DATASETS_FOLDER, subfolder, filename))"
      ],
      "execution_count": null,
      "outputs": []
    },
    {
      "cell_type": "code",
      "metadata": {
        "id": "qIRW7UPpe3q_"
      },
      "source": [
        "dataframe_human_rights['facts'] = dataframe_human_rights['facts'].apply(lambda x: ' '.join(x).lower())"
      ],
      "execution_count": null,
      "outputs": []
    },
    {
      "cell_type": "code",
      "metadata": {
        "colab": {
          "base_uri": "https://localhost:8080/",
          "height": 165
        },
        "id": "os1B4qzba5pV",
        "outputId": "ef4be751-fd8e-4025-81ac-f03f6b38812d"
      },
      "source": [
        "print('columns:', dataframe_human_rights.columns)\n",
        "dataframe_human_rights.head(1)"
      ],
      "execution_count": null,
      "outputs": [
        {
          "output_type": "stream",
          "text": [
            "columns: Index(['case_id', 'case_no', 'title', 'judgment_date', 'facts', 'applicants',\n",
            "       'defendants', 'allegedly_violated_articles', 'violated_articles',\n",
            "       'court_assessment_references', 'silver_rationales', 'gold_rationales'],\n",
            "      dtype='object')\n"
          ],
          "name": "stdout"
        },
        {
          "output_type": "execute_result",
          "data": {
            "text/html": [
              "<div>\n",
              "<style scoped>\n",
              "    .dataframe tbody tr th:only-of-type {\n",
              "        vertical-align: middle;\n",
              "    }\n",
              "\n",
              "    .dataframe tbody tr th {\n",
              "        vertical-align: top;\n",
              "    }\n",
              "\n",
              "    .dataframe thead th {\n",
              "        text-align: right;\n",
              "    }\n",
              "</style>\n",
              "<table border=\"1\" class=\"dataframe\">\n",
              "  <thead>\n",
              "    <tr style=\"text-align: right;\">\n",
              "      <th></th>\n",
              "      <th>case_id</th>\n",
              "      <th>case_no</th>\n",
              "      <th>title</th>\n",
              "      <th>judgment_date</th>\n",
              "      <th>facts</th>\n",
              "      <th>applicants</th>\n",
              "      <th>defendants</th>\n",
              "      <th>allegedly_violated_articles</th>\n",
              "      <th>violated_articles</th>\n",
              "      <th>court_assessment_references</th>\n",
              "      <th>silver_rationales</th>\n",
              "      <th>gold_rationales</th>\n",
              "    </tr>\n",
              "  </thead>\n",
              "  <tbody>\n",
              "    <tr>\n",
              "      <th>930</th>\n",
              "      <td>001-175663</td>\n",
              "      <td>6131/07</td>\n",
              "      <td>CASE OF KOROBEYNIKOV v. RUSSIA</td>\n",
              "      <td>2017-07-25</td>\n",
              "      <td>5.  the applicant was born in 1963 and lives i...</td>\n",
              "      <td>[KOROBEYNIKOV]</td>\n",
              "      <td>[RUSSIA]</td>\n",
              "      <td>[6]</td>\n",
              "      <td>[6]</td>\n",
              "      <td>{}</td>\n",
              "      <td>[]</td>\n",
              "      <td>[]</td>\n",
              "    </tr>\n",
              "  </tbody>\n",
              "</table>\n",
              "</div>"
            ],
            "text/plain": [
              "        case_id  case_no  ... silver_rationales gold_rationales\n",
              "930  001-175663  6131/07  ...                []              []\n",
              "\n",
              "[1 rows x 12 columns]"
            ]
          },
          "metadata": {
            "tags": []
          },
          "execution_count": 6
        }
      ]
    },
    {
      "cell_type": "code",
      "metadata": {
        "colab": {
          "base_uri": "https://localhost:8080/",
          "height": 103
        },
        "id": "-0jwQ_OZlG8a",
        "outputId": "3c3521d1-346d-4b6d-ec80-dc5356dc1bc8"
      },
      "source": [
        "dataframe_human_rights['facts'].iloc[0]"
      ],
      "execution_count": null,
      "outputs": [
        {
          "output_type": "execute_result",
          "data": {
            "application/vnd.google.colaboratory.intrinsic+json": {
              "type": "string"
            },
            "text/plain": [
              "'5.  the applicant was born in 1963 and lives in pyatigorsk. 6.  the applicant took part in the cleaning-up operation at the chernobyl nuclear disaster site. he was subsequently registered disabled by ukrainian authorities, becoming entitled to various social benefits. 7.  in september 1999 the applicant settled in russia. the welfare authorities rejected re-establishing the applicant’s disability status. the applicant challenged the rejection before the courts. 8.  on 30 august 2005 the pyatigorsk town court granted the applicant’s claim and ordered the administration of labour and social security of the population of pyatigorsk to issue a certificate of benefits. 9.  on 20 september 2009 the judgment became final. 10.  on 18 october 2005 the applicant was issued with the certificate of benefits. 11.  on 1 november 2006 the presidium of stavropol regional court allowed the defendant authority’s application for supervisory review and quashed the judgment of 30 august 2005, considering that the lower courts misapplied the material law. the case was remitted for fresh consideration. 12.  on 13 december 2006 the the pyatigorsk town court discontinued the proceedings since the parties failed to appear.'"
            ]
          },
          "metadata": {
            "tags": []
          },
          "execution_count": 7
        }
      ]
    },
    {
      "cell_type": "markdown",
      "metadata": {
        "id": "4QT0AlWDqk3u"
      },
      "source": [
        "## Vectorization"
      ]
    },
    {
      "cell_type": "markdown",
      "metadata": {
        "id": "49fz38MyQ1cP"
      },
      "source": [
        "Tokenizer"
      ]
    },
    {
      "cell_type": "code",
      "metadata": {
        "id": "Gm9DalQ_koR8"
      },
      "source": [
        "\"\"\"\n",
        "Tokenizer and Transformer models created by the dataset authors:\n",
        "I. Chalkidis, M. Fergadiotis, P. Malakasiotis, N. Aletras and I. Androutsopoulos. \n",
        "\"LEGAL-BERT: The Muppets straight out of Law School\". \n",
        "In Findings of Empirical Methods in Natural Language Processing (EMNLP 2020) \n",
        "(Short Papers), to be held online, 2020. (https://aclanthology.org/2020.findings-emnlp.261)\n",
        "\"\"\"\n",
        "\n",
        "# Tokenizer\n",
        "# This is a specialized tokenizer designed for use on the dataset\n",
        "tokenizer = AutoTokenizer.from_pretrained(\"nlpaueb/bert-base-uncased-echr\")\n",
        "\n",
        "# ECHR Dataset\n",
        "# apply text preprocessor\n",
        "texts = dataframe_human_rights['facts'].to_list()\n",
        "tokens_echr = tokenizer(texts,\n",
        "                   padding=True,\n",
        "                   truncation=True,\n",
        "                   max_length=256,  # pad/truncate to uniform size\n",
        "                   return_tensors=\"pt\")  # return in PyTorch format\n",
        "\n",
        "masked_tokens_echr = tokens_echr['input_ids'] * tokens_echr['attention_mask']                   "
      ],
      "execution_count": null,
      "outputs": []
    },
    {
      "cell_type": "markdown",
      "metadata": {
        "id": "ep_MFwLXQ273"
      },
      "source": [
        "Vectorizer"
      ]
    },
    {
      "cell_type": "code",
      "metadata": {
        "colab": {
          "base_uri": "https://localhost:8080/",
          "height": 35
        },
        "id": "ubtqmgYoQ3Kw",
        "outputId": "1ca75e10-7aba-4268-f81b-10887784efe0"
      },
      "source": [
        "\"\"\"\n",
        "# LEGAL-BERT Model\n",
        "# note: crashes system if used on full datatset\n",
        "legal_bert_transforer = AutoModel.from_pretrained(\"nlpaueb/bert-base-uncased-echr\")\n",
        "\n",
        "use: encoded_data = legal_bert_transforer(**tokens_echr)\n",
        "\"\"\""
      ],
      "execution_count": null,
      "outputs": [
        {
          "output_type": "execute_result",
          "data": {
            "application/vnd.google.colaboratory.intrinsic+json": {
              "type": "string"
            },
            "text/plain": [
              "'\\n# LEGAL-BERT Model\\n# note: crashes system if used on full datatset\\nlegal_bert_transforer = AutoModel.from_pretrained(\"nlpaueb/bert-base-uncased-echr\")\\n'"
            ]
          },
          "metadata": {
            "tags": []
          },
          "execution_count": 9
        }
      ]
    },
    {
      "cell_type": "code",
      "metadata": {
        "id": "AqeKEIpRrkuP"
      },
      "source": [
        "# Count Vectorizer\n",
        "tfidf_vectorizer = TfidfVectorizer()\n",
        "\n",
        "# convert to string for fitting vectorizer\n",
        "corpus = range(torch.max(tokens_echr['input_ids']))\n",
        "corpus = [str(c) for c in corpus]  \n",
        "\n",
        "# fit\n",
        "tfidf_vectorizer.fit(corpus)\n",
        "\n",
        "# convert to string for applying vectorizer\n",
        "masked_tokens_list = masked_tokens_echr.tolist()\n",
        "masked_tokens_echr_string = [' '.join([str(num) for num in masked_tokens_list[i]]) \n",
        "                                for i in range(len(masked_tokens_list))]\n",
        "\n",
        "encoded_data = tfidf_vectorizer.transform(masked_tokens_echr_string)"
      ],
      "execution_count": null,
      "outputs": []
    },
    {
      "cell_type": "code",
      "metadata": {
        "colab": {
          "base_uri": "https://localhost:8080/"
        },
        "id": "h3ubOttSRC8c",
        "outputId": "2e8a065f-10c5-4dbd-ab09-bc2537690c77"
      },
      "source": [
        "encoded_data"
      ],
      "execution_count": null,
      "outputs": [
        {
          "output_type": "execute_result",
          "data": {
            "text/plain": [
              "<1000x29980 sparse matrix of type '<class 'numpy.float64'>'\n",
              "\twith 132098 stored elements in Compressed Sparse Row format>"
            ]
          },
          "metadata": {
            "tags": []
          },
          "execution_count": 38
        }
      ]
    },
    {
      "cell_type": "markdown",
      "metadata": {
        "id": "UVvzEUEnDiRq"
      },
      "source": [
        "## Why not a Transformer Model?\n",
        "\n",
        "The paper from where we sourced our dataset and text pre-processor also has a custom built Transformer model, that has been made available at PRETRAINED MODEL IMPLEMENTATION from https://huggingface.co/nlpaueb/legal-bert-base-uncased. Unfortunately this model crashes our system when more than a couple hundred samples are used. Instead, we build our own Gaussian Mixture Model below."
      ]
    },
    {
      "cell_type": "markdown",
      "metadata": {
        "id": "_wgtzfqVUAiI"
      },
      "source": [
        "# Mixture Models"
      ]
    },
    {
      "cell_type": "markdown",
      "metadata": {
        "id": "bYPz3qC3DXuh"
      },
      "source": [
        "Dimension Reduction"
      ]
    },
    {
      "cell_type": "code",
      "metadata": {
        "id": "BxiAZoTYDZoW"
      },
      "source": [
        "pca_transform = PCA(n_components=10)\n",
        "\"\"\"\n",
        "# if using bert transformer data:\n",
        "encoded_data_condensed = pca_transform.fit_transform(encoded_data['pooler_output'].detach().numpy())  # '.detach().numpy()' needed for proper conversion between pytorch ans scikit\n",
        "\"\"\"\n",
        "# if using TF-IDF vectorized data\n",
        "encoded_data_condensed = pca_transform.fit_transform(encoded_data.todense())"
      ],
      "execution_count": null,
      "outputs": []
    },
    {
      "cell_type": "markdown",
      "metadata": {
        "id": "WehEwvib2Rnx"
      },
      "source": [
        "Cluster Model"
      ]
    },
    {
      "cell_type": "code",
      "metadata": {
        "id": "_bixDHrB2Q8l",
        "colab": {
          "base_uri": "https://localhost:8080/"
        },
        "outputId": "b0c6ae15-3a42-4170-b1a3-738b7585f571"
      },
      "source": [
        "mixture_model = BayesianGaussianMixture(n_components=5, random_state=142)\n",
        "mixture_model.fit(encoded_data_condensed)"
      ],
      "execution_count": null,
      "outputs": [
        {
          "output_type": "stream",
          "text": [
            "/usr/local/lib/python3.7/dist-packages/sklearn/mixture/_base.py:267: ConvergenceWarning: Initialization 1 did not converge. Try different init parameters, or increase max_iter, tol or check for degenerate data.\n",
            "  % (init + 1), ConvergenceWarning)\n"
          ],
          "name": "stderr"
        },
        {
          "output_type": "execute_result",
          "data": {
            "text/plain": [
              "BayesianGaussianMixture(covariance_prior=None, covariance_type='full',\n",
              "                        degrees_of_freedom_prior=None, init_params='kmeans',\n",
              "                        max_iter=100, mean_precision_prior=None,\n",
              "                        mean_prior=None, n_components=5, n_init=1,\n",
              "                        random_state=142, reg_covar=1e-06, tol=0.001, verbose=0,\n",
              "                        verbose_interval=10, warm_start=False,\n",
              "                        weight_concentration_prior=None,\n",
              "                        weight_concentration_prior_type='dirichlet_process')"
            ]
          },
          "metadata": {
            "tags": []
          },
          "execution_count": 42
        }
      ]
    },
    {
      "cell_type": "code",
      "metadata": {
        "id": "9r0XnXoLxs7H"
      },
      "source": [
        "clusters_assignments = mixture_model.predict(encoded_data_condensed)"
      ],
      "execution_count": null,
      "outputs": []
    },
    {
      "cell_type": "code",
      "metadata": {
        "id": "MiEuOYmOYmr6",
        "colab": {
          "base_uri": "https://localhost:8080/"
        },
        "outputId": "bbdb419a-43be-4a3f-b878-415402190c1e"
      },
      "source": [
        "clusters_probs = mixture_model.predict_proba(encoded_data_condensed)\n",
        "clusters_probs[:5,:]\n",
        "print(clusters_probs.shape)"
      ],
      "execution_count": null,
      "outputs": [
        {
          "output_type": "stream",
          "text": [
            "(1000, 5)\n"
          ],
          "name": "stdout"
        }
      ]
    },
    {
      "cell_type": "markdown",
      "metadata": {
        "id": "OoUXy4LBFhGx"
      },
      "source": [
        "Combine into dataframe"
      ]
    },
    {
      "cell_type": "code",
      "metadata": {
        "colab": {
          "base_uri": "https://localhost:8080/",
          "height": 247
        },
        "id": "lDEdHg-gFldm",
        "outputId": "c861bbc1-249b-443a-ddc0-37901f4efa34"
      },
      "source": [
        "# hard assignments\n",
        "dataframe_human_rights['clusters_assignments'] = clusters_assignments\n",
        "dataframe_human_rights.head(2)"
      ],
      "execution_count": null,
      "outputs": [
        {
          "output_type": "execute_result",
          "data": {
            "text/html": [
              "<div>\n",
              "<style scoped>\n",
              "    .dataframe tbody tr th:only-of-type {\n",
              "        vertical-align: middle;\n",
              "    }\n",
              "\n",
              "    .dataframe tbody tr th {\n",
              "        vertical-align: top;\n",
              "    }\n",
              "\n",
              "    .dataframe thead th {\n",
              "        text-align: right;\n",
              "    }\n",
              "</style>\n",
              "<table border=\"1\" class=\"dataframe\">\n",
              "  <thead>\n",
              "    <tr style=\"text-align: right;\">\n",
              "      <th></th>\n",
              "      <th>case_id</th>\n",
              "      <th>case_no</th>\n",
              "      <th>title</th>\n",
              "      <th>judgment_date</th>\n",
              "      <th>facts</th>\n",
              "      <th>applicants</th>\n",
              "      <th>defendants</th>\n",
              "      <th>allegedly_violated_articles</th>\n",
              "      <th>violated_articles</th>\n",
              "      <th>court_assessment_references</th>\n",
              "      <th>silver_rationales</th>\n",
              "      <th>gold_rationales</th>\n",
              "      <th>clusters_assignments</th>\n",
              "    </tr>\n",
              "  </thead>\n",
              "  <tbody>\n",
              "    <tr>\n",
              "      <th>930</th>\n",
              "      <td>001-175663</td>\n",
              "      <td>6131/07</td>\n",
              "      <td>CASE OF KOROBEYNIKOV v. RUSSIA</td>\n",
              "      <td>2017-07-25</td>\n",
              "      <td>5.  the applicant was born in 1963 and lives i...</td>\n",
              "      <td>[KOROBEYNIKOV]</td>\n",
              "      <td>[RUSSIA]</td>\n",
              "      <td>[6]</td>\n",
              "      <td>[6]</td>\n",
              "      <td>{}</td>\n",
              "      <td>[]</td>\n",
              "      <td>[]</td>\n",
              "      <td>1</td>\n",
              "    </tr>\n",
              "    <tr>\n",
              "      <th>335</th>\n",
              "      <td>001-166930</td>\n",
              "      <td>3933/12</td>\n",
              "      <td>CASE OF PISKUNOV v. RUSSIA</td>\n",
              "      <td>2016-10-04</td>\n",
              "      <td>7.  the applicant was born in 1955. he is curr...</td>\n",
              "      <td>[PISKUNOV]</td>\n",
              "      <td>[RUSSIA]</td>\n",
              "      <td>[13, 3]</td>\n",
              "      <td>[13, 3]</td>\n",
              "      <td>{}</td>\n",
              "      <td>[]</td>\n",
              "      <td>[]</td>\n",
              "      <td>1</td>\n",
              "    </tr>\n",
              "  </tbody>\n",
              "</table>\n",
              "</div>"
            ],
            "text/plain": [
              "        case_id  case_no  ... gold_rationales clusters_assignments\n",
              "930  001-175663  6131/07  ...              []                    1\n",
              "335  001-166930  3933/12  ...              []                    1\n",
              "\n",
              "[2 rows x 13 columns]"
            ]
          },
          "metadata": {
            "tags": []
          },
          "execution_count": 45
        }
      ]
    },
    {
      "cell_type": "code",
      "metadata": {
        "colab": {
          "base_uri": "https://localhost:8080/"
        },
        "id": "k5jMi_jQGMB0",
        "outputId": "bfab4657-0104-4252-e2ff-aa41c3c7ecf0"
      },
      "source": [
        "# soft assignments\n",
        "soft_assignments_df = pd.DataFrame(clusters_probs, columns=['clusters_probs_0', 'clusters_probs_1', 'clusters_probs_2', 'clusters_probs_3', 'clusters_probs_4'])\n",
        "soft_assignments_df.head(3)\n",
        "print(len(soft_assignments_df))"
      ],
      "execution_count": null,
      "outputs": [
        {
          "output_type": "stream",
          "text": [
            "1000\n"
          ],
          "name": "stdout"
        }
      ]
    },
    {
      "cell_type": "code",
      "metadata": {
        "colab": {
          "base_uri": "https://localhost:8080/"
        },
        "id": "bnBxOS-dGdJI",
        "outputId": "f63f6d97-05df-407e-c53d-ceaea8600eeb"
      },
      "source": [
        "df = pd.concat([dataframe_human_rights, soft_assignments_df.reindex(dataframe_human_rights.index)], axis='columns', join='inner')\n",
        "len(df)"
      ],
      "execution_count": null,
      "outputs": [
        {
          "output_type": "execute_result",
          "data": {
            "text/plain": [
              "1000"
            ]
          },
          "metadata": {
            "tags": []
          },
          "execution_count": 47
        }
      ]
    },
    {
      "cell_type": "markdown",
      "metadata": {
        "id": "_jnFKoAgJRse"
      },
      "source": [
        "## Interpretations"
      ]
    },
    {
      "cell_type": "code",
      "metadata": {
        "id": "2y7NSiaqJUGx"
      },
      "source": [
        "cluster_objects = {}\n",
        "cluster_names = sorted(df['clusters_assignments'].unique().tolist())\n",
        "\n",
        "for i in cluster_names:\n",
        "    cluster_objects[i] = df[df['clusters_assignments'] == i][['defendants', 'judgment_date', 'facts', 'allegedly_violated_articles']]"
      ],
      "execution_count": null,
      "outputs": []
    },
    {
      "cell_type": "code",
      "metadata": {
        "colab": {
          "base_uri": "https://localhost:8080/"
        },
        "id": "09CBqHA5JzUa",
        "outputId": "e189bb22-5cbc-4038-a926-b3d26f3782ee"
      },
      "source": [
        "shuffled_cluster = cluster_objects[0].sample(frac=1.0)\n",
        "for i in range(5):#len(shuffled_cluster)):\n",
        "    print(shuffled_cluster.iloc[i]['facts'])\n",
        "    print()"
      ],
      "execution_count": null,
      "outputs": [
        {
          "output_type": "stream",
          "text": [
            "4.  the applicants, whose years of birth are summarised in the appendix, live in troitsko-pechorsk of the komi republic. 5.  they were municipal unitary enterprise employees working for “troitsko-pechorskoye zhkkh” («муп «троицко-печерское жкх», “the company”) in the komi republic. 6.  the company was set up in 2003 in accordance with a decision of head of the troitsko-pechorskiy district (“the district administration”) as a commercial organisation performing the following activities, among others: renovation and maintenance of the municipal housing stock; heating and water supply to the district population and enterprises; maintenance of the sewage systems; maintenance services in respect of municipal housing and adjacent territories; and providing real estate registration services in the troitsko-pechorskiy district. in order to carry out its statutory activities, the company had “the right of economic control” (право хозяйственного ведения) over the assets allocated to it by the town administration (see liseytseva and maslov v. russia, nos. 39483/05 and 40527/10, §§ 55-75, 9 october 2014 for further details on the company’s status). 7.  in 2004-2006 the district administration withdrew the company’s several assets, including “housing and objects of the engineering infrastructure” and transferred them to the municipal district treasury. 8.  on the dates tabulated in the appendix below the justice of the peace of the troitsko‑pechorskiy court circuit of the komi republic by separate judgments and court writs ordered the company to pay the applicants salary arrears. on the dates listed in the appendix the awards became enforceable. 9.  it appears from the parties’ observations of 2011 that ms lyubas (application no. 10742/09) obtained at least two other judgments in her favour which had been issued on 22 june and 2 november 2007 against the debtor enterprise. 10.  between april 2007 and september 2008 some applicants received the amounts specified in the “enforcement status” column of the appendix. the government submitted, without further details, that ms lyubas was paid 56,021 russian roubles pursuant to unspecified domestic judicial decisions in her favour. ms lyubas, interviewed in the domestic proceedings, maintained that the award of 21 december 2006 had not been paid to her. 11.  on 11 december 2006 the supervision procedure was put in place in respect of the company. on 14 may 2007 the commercial court of the komi republic declared the company insolvent and the liquidation proceedings commenced. 12.  at some point before 9 november 2007 the prosecutor’s office conducted an inquiry and, having analysed the manner of the assets’ withdrawal and transfer by the owner, concluded that the owner’s actions contained elements of deliberate bankruptcy. it appears that at some point the prosecutor’s office refused to open criminal proceedings on account of the alleged deliberate bankruptcy of the company. in november 2007 the prosecutor’s office also held an inquiry into the liquidator’s actions, found that she had acted in compliance with the domestic law and refused to bring administrative proceedings against her. 13.  during the insolvency proceedings the liquidator lodged numerous actions on the company’s behalf claiming, inter alia, unpaid communal charges from local population. the amount recovered proved insufficient to settle all creditors’ claims. 14.  at some point the liquidator lodged an action on the company’s behalf against the district administration under article 56 § 3 (subsidiary liability) of the civil code of the russian federation. he argued that the insolvency of the company had been caused by the administration. he submitted that, as a result of a series of the asset transfers in 2004-2006, the company had become unable to meet the creditors’ claims and to continue to carry out its statutory goals. 15.  on 3 march 2010 the federal commercial court of the volgo‑vyatskiy circuit rejected the claim in the cassation instance, and on 12 july 2010 the supreme commercial court refused to accept for examination a request for supervisory review of that judgment. the domestic courts at all instances accepted that the assets had indeed been transferred from the company’s economic control to the district treasury. however, they found no evidence that the insolvency had been caused by the owner’s actions. in particular, after the withdrawal of assets the company still had been able to meet the creditors’ claims. the housing and objects of the engineering infrastructure on 30 january 2006 had been withdrawn “in order to apply the housing policy” and to “reduce the company’s expenses for the maintenance of the infrastructure objects”. in particular, the ministry of architecture and communal services of the komi republic had recommended the municipalities to withdraw objects of housing and engineering infrastructure from unitary enterprises in order to optimise taxes of housing and communal services providers. finally, even though at the insolvency stage the company proved unable to meet the creditors’ claims, the claimant had failed to demonstrate that the owner “knew or ought to have known that [the transfer of the assets] would have led to the company’s insolvency”. 16.   on 28 december 2011 the commercial court of the komi republic ordered the respondent company’s liquidation. creditors’ claims which had not been satisfied during the liquidation procedure due to the debtor’s shortage of funds, including the applicant’s claims, were considered as settled. on the same date the liquidation was recorded in the register of legal entities, and the company ceased to exist. the judgments in the applicants’ favour have remained unenforced either in full or in part, as indicated in a relevant part of the appendix below.\n",
            "\n",
            "4.  the municipal unitary enterprise sysolskoye proizvodstvennoye obyedineniye “zhilkomkhoz” (муп сысольское производственное объединение «жилкомхоз», hereinafter “the company”) was set up by a decision of the administration of the sysolskiy district. it provided maintenance services in respect of municipal housing, including heating and water supply, maintenance of the sewage systems and renovation and maintenance of the municipal housing stock. 5.  the company had “the right of economic control” (право хозяйственного ведения) over the assets allocated to it in order to carry out its statutory activities. according to its statutory articles all of the company’s property as well as obtained profits belonged to the municipal estate. 6.  on 3 march 2006 the commercial court of the komi republic commenced insolvency proceedings and appointed an external administrator to oversee the company’s administration. 7.  on 29 september 2006 the commercial court of the komi republic ordered the insolvency proceedings in respect of the company. 8.  on 28 august 2008 the commercial court of the komi republic discontinued the insolvency proceedings and ordered the respondent company’s liquidation. the creditors’ claims, which had not been satisfied during the liquidation procedure, including the applicants’ claims, were considered as settled. 10.  on an unspecified date in 2006 the applicants brought proceedings against the debtor company seeking salary arrears and other work-related payments. 11.  on 9 august 2006 and 30 october 2006 the justice of the peace of the sysolskiy court circuit of the komi republic awarded the applicants salary arrears (the amounts are specified in the appendix, column no. 2) and compensation for non-pecuniary damage against their employer. on 10 october 2006 and 10 november 2006 respectively the sysolskiy district court upheld those judgments on appeal and they became final.\n",
            "\n",
            "4.  the applicant was born in 1967 and lives in porto. 5.  on 28 april 2009 the applicant lodged a request to be granted permanent disability with respect to work before the state’s attorney’s office of the porto labour court as a consequence of a labour accident that she had suffered and with regard to which she was claiming damages and compensation. 6.  on 27 may 2009 the applicant supplied statements to the state’s attorney’s office in which she confirmed she was receiving medical care. on the same day the state’s attorney’s office request the applicant to provide her medical reports, which she submitted on 28 and 29 july 2009. 7.  meanwhile, the applicant’s employee was notified to provide information on the applicant’s work accident, which was done on 16 june 2009. 8.  on 16 september the applicant supplied second statements, informing the state’s attorney’s office that she remained under medical treatment. 9.  between 16 september 2009 and 20 september 2010 the state’s attorney’s office requested information regarding the evolution of the applicant’s medical treatment. between these dates, the state’s attorney’s office stayed the proceedings twice for thirty days, on 5 march and on 4 may 2010, until the applicant was medically fit. 10.  on an unknown date the state’s attorney’s office was informed that the applicant was no longer being treated in the same clinic and on 7 october 2010 requested the applicant to inform whether she was still being treated and in which clinic. the state’s attorney’s office was informed that the applicant had changed her address and on 25 october 2010 requested the police to provide information on the applicant’s new address. 11.  on 4 november 2010 the applicant informed the porto labour court of her new address and that she had not been certified as medically fit yet. 12.  on 5 january 2011 the court requested the forensic institute (instituto de medicina legal) to make a medical examination of the applicant, which was made on 27 february 2011. the medical report was submitted by the forensic institute on 3 march 2011 in which it referred that further clinical data and an additional examination were still needed. 13.  on 9 march 2011 the porto labour court the collection of those data and the realisation of the additional examination, which were submitted on 26 may and 15 june 2011, respectively. on 12 october 2011 the forensic institute submitted its final report. 14.  on 24 october 2011 the state’s attorney’s office scheduled a conciliatory hearing between the parties on 23 november 2011. 15.  the conciliatory hearing was adjourned to 24 january 2012 due to the lack of notification of the applicant’s employer. on 24 january 2012 the hearing was again adjourned to 14 march 2012 at the request of the applicant. on this date the conciliatory stage ended without an agreement between the parties. 16.  on 2 april 2012 the applicant requested the porto labour court to continue with the judicial stage of the proceedings against her employer and the insurance company. 17.  between 8 june 2012 and 21 november 2012 several procedural steps took place, mostly notifications, provision of information from the parties to the porto labour court and a medical examination at the request of the applicant. 18.  the hearing started on 20 february and continued on 28 february 2013. 19.  on 8 march 2013 the porto labour court delivered its decision in which it ruled against the applicant.\n",
            "\n",
            "5.  the applicant was born in 1987 and lives in orsk, the orenburg region. 6.  the applicant received a summons from investigator k. to attend office no. 44 at the sovetskiy district police department of the town of orsk (отдел внутренних дел советского района г. орска) at 11 a.m. on 15 february 2005. the summons contained no further details. at 11 a.m. on 15 february 2005 the applicant, who was 17 years old at the time, arrived at the police station, as requested, together with his father and his friend ms l. a police officer on duty registered their arrival at the police station. investigator k. was absent and the applicant was asked to wait. police officer m. took the applicant to his office. 7.  at some point the applicant’s father was asked to participate in an investigative measure. when this was finished he could not locate the applicant at the police station. he and ms l. were requested by police officer m. to leave the building. they remained outside near the main entrance waiting for the applicant. at some point they were told that the applicant was no longer in the police station. they left at about 7 p.m. as the applicant did not appear at home his parents enquired about his whereabouts at the sovetskiy district police department, by telephone and in person. after many unsuccessful attempts they were finally told that the applicant had gone to police station no. 2 together with police officer sh. and that he had stayed there until 8 p.m. 8.  according to the applicant, police officer sh. took him to an experts’ room where he was photographed and fingerprinted. then, shortly after 3 p.m., sh. led him out of the police station from a back door in the experts’ room and took him to orsk police department no. 2 in a police car for questioning. according to the police station logbook, the applicant left the sovetskiy district police station at 3.20 p.m. on 15 february 2005. 9.  the applicant provided the following account of events at police department no. 2. the head of the police department, p., and police officer e. interviewed him about his alleged involvement in thefts from certain shops. the applicant denied involvement in the thefts. e. shackled the applicant’s hands behind his back, told him “to sit on the floor with his legs crossed in front of him”, tied his legs with a rope, “threw the rope across the neck to the back”, “hung it on a chair and pulled it”. the applicant felt severe pain in his back. 10.  at some point operative police officer k. came in and interviewed the applicant. when p. and e. both came out k. untied the applicant’s legs and demanded that the applicant write a statement of “surrender and confession”. the applicant maintained his refusal. k. opened the door and called e. the applicant “understood that he would be tortured again”. he ran up and hit his head against the glass door of a bookcase. the glass broke and the applicant received cuts on his face above the left eyebrow and on his head. 11.  then e. tied the applicant’s hands and legs behind his back, passed a metal bar under the rope and hung him on the bar, the ends of which were put on the table and the back of a chair. the applicant had been hanging in that position for about eight minutes when somebody took the bar off and asked e. to untie the applicant. e. refused. 12.  at some point e. came out and the applicant was untied and the handcuffs were removed from him. k. demanded again that the applicant write a statement of “surrender and confession”. the applicant started writing the statement as requested. p. came in together with lawyer s. who offered his services as counsel for the applicant’s defence. the applicant refused because he wished to be represented by a lawyer of his own choice. 13.  reluctant to continue writing the confession statement, the applicant was taken by e., who was allegedly drunk, to his office. an ambulance, which had been called after the incident with the broken glass, arrived and the applicant was examined by the ambulance medical assistant, who provided him with first aid and left. 14.  thereafter the applicant was questioned by two police officers, who were also drunk. one of them hit the applicant several times on both ears simultaneously with the palms of his hands. the other police officer punched him in the head. 15.  then e. tied the applicant up and hung him on the bar again. the applicant saw blood dripping from his head to the floor. 16.  police officer b. untied the applicant and demanded that he finish writing the statement of “surrender and confession”. the applicant did so and was allowed by p. to leave. the applicant went home, which was about three kilometres away, on foot. 17.  at about 9.40 p.m. the applicant arrived home. at 11.05 p.m. he was hospitalised. according to the medical records of town hospital no. 2, where he stayed for in-patient treatment until 4 march 2005, at the time of his admission the applicant was complaining of headache, nausea, vomiting and giddiness. he explained that he had been beaten up by police officers three hours previously. he had an abrasion up to 2 cm long over the left eyebrow and bruises on his scalp. he was diagnosed with an abrasion on the left superciliary arch, contusions of the soft tissues of the head and concussion. 18.  the evidence in the case file indicates that police officer e. drew up a record of the applicant’s being “conveyed” (доставление) to the police station. according to that record, at 7 p.m. on 15 february 2005 the applicant was brought to the police station “for examination” (разбирательство) and searched in the presence of attesting witnesses v. and sh. it was stated in the record, which was signed by police officer e., the two attesting witnesses and the applicant, that the applicant, a “violator”, had been informed of the rights and obligations of a person against whom administrative proceedings were initiated. the record contained no further details. 19.  on 15 february 2005 the orsk police department was alerted by the town hospital that the applicant had been taken to hospital with injuries allegedly inflicted by police officers. 20.  on 17 february 2005 the orsk sovetskiy district prosecutor’s office received information about the applicant’s alleged ill-treatment by police officers. 21.  on 21 february 2005 the applicant’s father complained to the sovetskiy district prosecutor’s office that the applicant had been the victim of police officers’ unlawful actions. on 4 march 2005 he lodged a similar complaint with the orenburg regional prosecutor’s office. 22.  the sovetskiy district prosecutor’s office carried out a preliminary inquiry. its investigator b. received explanations from a number of persons, including the following persons.\n",
            "(a)  explanations received by the investigating authority 23.  on 18 february 2005 lawyer s. stated that on 15 february 2005, some time after 7.20 p.m. [the head of the police department] p. had asked him to be present at an investigative measure as counsel for the defence of the applicant, who was suspected of having committed a crime. s. had seen coagulated blood on the applicant’s eyebrow and on his head. s. had asked the operative officers to leave the office and asked the applicant about the origin of his injuries. the applicant had explained that he himself had hit his head against a bookcase. s. had offered his services as counsel for his defence. the applicant refused, as he wanted lawyer z. to defend him. 24.  on 22 february 2005 police officer e. stated that he had left work at 6.50 p.m. on 15 february 2005. at a bus stop he had seen the applicant who had been suspected of having committed thefts from two shops. e. had taken the applicant to the police station, where he had invited two attesting witnesses so that a record could be drawn up about the applicant’s being conveyed to the police station and searched. in the presence of the attesting witnesses the applicant had jumped from his chair and hit his head against the glass door of a bookcase. the glass had broken and the applicant had received cuts on his eyebrow and head. e. had provided the applicant with first aid, had drawn up the record of his being conveyed to the police station, and had transferred him to operative officer k. some twenty minutes later k. had brought the applicant back, as the applicant was complaining of feeling unwell. e. had called an ambulance. the ambulance staff had provided the applicant with first aid. e. denied any use of force or psychological pressure in relation to the applicant. 25.  on 22 february 2005 the head of the police department p. stated that at 7-7.30 p.m. on 15 february 2005 he had been informed that the applicant had been brought to the police station on suspicion of having committed a theft. p. gave statements similar to those by e. about the applicant hitting the bookcase with his head. according to p., the applicant had stayed at the police station for one hour and had left at about 8 p.m. none of his subordinates had committed any unlawful actions in relation to the applicant. 26.  on 24 february 2005 attesting witnesses v. and sh. stated that at about 7 p.m. they had been invited to be present as attesting witnesses at the applicant’s search. after being searched the applicant had jumped to his feet, run up and hit his head against a bookcase. the glass of the bookcase had broken and the applicant had cut his eyebrow. two police officers had been present during the incident. 27.  on 3 march 2005 police officer sh. stated that on 15 february 2005 at the sovetskiy district police station he had taken the applicant to the experts’ room, where the applicant had been fingerprinted and photographed, and then to the exit. sh. denied having taken the applicant to police station no. 2. 28.  on 5 march 2005 operative officer k. stated that the police had had information, notably explanations by an eyewitness to a theft at a certain shop, that the applicant could have been involved in the theft. k. had interviewed the applicant, who had been known to the police on account of thefts previously committed by him, at about 7 p.m. on 15 february 2005, after the incident with the broken glass. the applicant had confessed to the theft and had written a statement. after that e. had called the ambulance as the applicant was complaining of a headache. k. denied any use of force in relation to the applicant. 29.  on 11 march 2005 investigator g. stated that she had requested that the applicant be summoned to the police station for an identity parade in a criminal case concerning assault and battery. on 15 february 2005 she had carried out the identity parade with the participation of the applicant’s father. as the applicant’s lawyer had not appeared she had cancelled the identity parade in which the applicant was to have participated. the applicant had left her office together with police officer sh. 30.  expert m. stated that in the afternoon of 15 february 2005 police officer sh. had brought the applicant to the experts’ room. the applicant had been fingerprinted and photographed. m. confirmed that there was another exit from the building through the experts’ room. he stated, however, that sh. and the applicant had left through another, “normal” door, through which they had arrived. 31.  the applicant gave a description of his alleged ill-treatment (see paragraphs 9-16 above). he stated that he had hit his head against the bookcase in order to stop the ill-treatment. he also stated that police officer e. had threatened to kill him if he told the ambulance staff about the ill‑treatment. when left with lawyer s. in private he had told him about the ill‑treatment and forced confession. 32.  the applicant’s father and ms l. gave statements about their visit to the police station on 15 february 2005 (see paragraphs 6 and 7 above).\n",
            "(b)  forensic medical expert’s opinion 33.  on 14 march 2005 investigator b. ordered a forensic medical examination of the applicant, which was carried out by expert b. on 17 march 2005. the expert was requested to determine the degree of harm to the health of the applicant, who had allegedly been beaten up by police officers on 15 february 2005. the applicant complained of recurring headaches. he had a scar over the left eyebrow. expert b. also examined his medical records from the town hospital (see paragraph 17 above). in his report no. 892 the expert concluded that the applicant’s injuries, notably the concussion, the wound over the left eyebrow and the bruises on the scalp, had been inflicted by hard blunt objects shortly before he was hospitalised. the injuries were qualified as light damage to health as they had caused short-term health disorder.\n",
            "(c)  decision of 17 march 2005 34.  on 17 march 2005 investigator b. ordered that by virtue of article 24 § 1 (2) of the code of criminal procedure (“ccrp”) no criminal proceedings were to be instituted in respect of the applicant’s complaint, in view of the absence of constituent elements of a crime under article 286 of the criminal code (abuse of power) in the acts of police officers sh. (as well as under article 301 of the criminal code, unlawful arrest or detention), p., k., e. (also under article 302 of the criminal code, coercion to obtain statements), and four others. 35.  on 21 march 2005 a deputy prosecutor of the sovetskiy district prosecutor’s office overturned the investigator’s decision, as the inquiry on which it was based was considered incomplete, and ordered an additional inquiry.\n",
            "(d)  additional explanations received by the investigating authority 36.  investigator b. received the following additional explanations. 37.  on 22 march 2005 n., a medical assistant, stated that at 7.30 p.m. an ambulance had been called by police station no. 2. she and g., a junior nurse, had gone to the police station. she had found the applicant in a room with two police officers, who had explained to her that the applicant had hit the glass with his head and broken it. she had examined the applicant, who had cuts over the left eyebrow and on the head. her examination had not revealed any obvious signs of concussion. the applicant had taken off his clothes. she had not seen any visible injuries on his body. 38.  on 23 march 2005 junior nurse g. gave similar explanations. she noted that the applicant had been in a room with two police officers, one of whom had later come out. then medical assistant n. had examined the applicant. 39.  on 23 and 24 march 2005 ya. and v. stated that in february 2005 they had undergone in‑patient treatment at the town hospital and had been in the same ward as the applicant, who had told them that he had been ill‑treated at the police station. ya. understood that police officers had handcuffed the applicant and hung him and afterwards hit his head against the wall. according to v., police officers had handcuffed the applicant and hung him, and then either he himself had hit the bookcase with his head or police officers had hit his head against the bookcase. 40.  the applicant’s schoolteacher, i., characterised the applicant as sly, deceitful and shifty. 41.  forensic medical expert b. stated that he did not consider it possible to establish reliably how the applicant had received concussion. it could have been the result either of the applicant’s hitting the bookcase with his head or of being punched on the head.\n",
            "(e)  decision of 24 march 2005 42.  on 24 march 2005, on the basis of the results of the inquiry, investigator b. again refused to open a criminal case under article 24 § 1 (2) of the ccrp, on the grounds that the constituent elements of a crime in the acts of police officers sh., p., k., e. and four others were absent. as before, the investigator referred to a crime under article 286 of the criminal code (abuse of power), as well as article 301 of the criminal code (unlawful arrest or detention) in relation to sh., and article 302 of the criminal code (coercion to obtain statements) in relation to p., k. and e.. the investigator found that the applicant had been at the sovetskiy district police department from 11 a.m. until 3.20 p.m. on 15 february 2005 for an identity parade in a criminal case concerning assault and battery, and that at about 7 p.m. on the same day police officer e. had taken him to police station no. 2 on suspicion of theft. the investigator held that the results of the inquiry had showed that the applicant’s injuries were self-inflicted, as a result of his hitting the bookcase with his head, and that the allegations of ill-treatment by police officers were devoid of any foundation. 43.  the applicant’s father appealed against the investigator’s decision of 24 march 2005. he complained, in particular, that the investigator had never held an identity parade in order to identify the two unknown police officers who had delivered blows to the applicant’s head. 44.  on 20 may 2005 the orsk sovetskiy district court, sitting in a single-judge formation, heard the applicant’s father, his representative and a deputy prosecutor of the sovetskiy district prosecutor’s office, and examined the evidence of the inquiry carried out by the investigator. it was satisfied that the inquiry had been comprehensive and thorough, and that the investigator’s assessment of its results had been impartial, reasoned and logical. it dismissed the applicant’s father’s appeal. it noted that an identity parade could only be held once a criminal case had been opened, which was not the case in the present proceedings. 45.  the applicant’s father appealed against the district court’s decision. on 16 june 2005 the orenburg regional court dismissed his appeal and fully endorsed the first-instance court’s findings. it held, inter alia, that the evidence of the inquiry had reliably shown that on 15 february 2005 the applicant had not been arrested as a suspect in a criminal case.\n",
            "\n",
            "6.  the applicant was born in 1960 and until his conviction lived in the town of slantsy in the leningrad region. 7.  in 1991 the applicant sustained a penetrating head injury, which involved the crushing of brain tissue. this trauma caused paralysis of the entire right side of his body, light speech impairment and post-traumatic epilepsy. to reduce the frequency of epileptic seizures the applicant was obliged to take benzonal. 8.  the following year the applicant was examined by a social security medical assessment board (бюро медико-социальной экспертизы) and certified as having the highest-degree disability on the grounds that he had lost the ability to work, to walk without assistance or to look after himself. those findings were confirmed by the board during routine re-examinations in 1994, 1996, 1998 and 2000, when the applicant was granted life-long disability status. 9.  in 2005 the applicant committed a homicide. on 16 april 2007 the slantsy town court found him guilty of murder and sentenced him to seven years’ imprisonment in a highly secure correctional colony. on 15 august 2007 the leningrad region court upheld the sentence on appeal. 10.  on 16 april 2007 the applicant was taken to a police ward in the town of slantsy. 11.  two days later he was transferred to remand prison no. iz-47/6 in st petersburg. on admission to that facility the resident prison doctor conducted a general medical check-up of the applicant and noted his disability. the applicant was allowed to take benzonal supplied by his wife in order to minimise his suffering from epileptic seizures. 12.  in the remand prison the applicant was detained in a normal cell block where he allegedly faced great difficulties in his daily routine owing to the lack of special arrangements, in particular when using the squat toilet and shared dormitory shower, which lacked handrails and non-slip flooring. 13.  on 26 september 2007, when the sentence became final, he was transferred to correctional colony no. 7 in the leningrad region, where he was also placed in a cell designed for healthy inmates and, allegedly, continued to experience the inconveniences arising from his disability. 14.  having no licence to treat inmates with as strong a medication as benzonal, the colony’s medical authorities offered the applicant two substitute drugs with similar anticonvulsive effect, but the latter refused, alleging their low efficiency and possible side effects. 15.  on 3 march 2008, at his own request, the applicant was sent to gaaza prison hospital in st petersburg (“the prison hospital”) for an in‑depth medical examination and treatment. in the hospital he was subjected to various medical tests which showed that his health was stable. on 1 april 2008 the applicant was discharged from the hospital. in the discharge summary the supervising doctor mentioned that the patient was able to look after himself and to walk without assistance. 16.  on 10 october 2008 the deputy head of the correctional colony ordered the applicant’s transfer to a special unit for disabled prisoners. according to the government’s description, this unit had “enhanced housing conditions” and “less strict security regime”. it accommodated only disabled inmates, who were detained in a prison wing located close to the medical unit. 17.  the applicant submitted that even after his transfer to the special unit he had not been provided with nursing assistance. being unable to dress himself or perform hygiene procedures without assistance, he had asked his inmates for help in exchanging valuable prison products such as tea, coffee, sweets and cigarettes. 18.  on 1 july 2009 the special medical board, at the request of the penal authorities, issued an advisory report confirming the gravity of the applicant’s disability. 19.  on 4 august 2009 the applicant was examined by a medical board composed of the prison hospital management and a neurosurgeon. the doctors noted that the applicant’s health had remained stable, that he was able to look after himself, and that nursing assistance was not required for him. however, due to the gravity of the applicant’s brain condition it was decided to check whether his illness fell within the established list of illnesses warranting early release. 20.  three days later a special medical board confirmed that the applicant’s condition justified his early release. 21.  it appears that the applicant remained in the prison hospital until 8 september 2009. 22.  in the meantime the detention authorities applied for his early release on medical grounds. 23.  on 28 august 2009 the smolninskiy district court of st petersburg dismissed their application, citing the gravity of the applicant’s offence, the fact that he had developed paralysis and epilepsy prior to his arrest and that in detention his condition had remained stable. the decision was upheld on appeal by the st petersburg city court on 17 november 2009. 24.  between 1 february and 18 march 2010, at his own request, the applicant was admitted to the prison hospital for treatment, and on 16 march 2010 he was re-examined by a medical board, which confirmed his right to early release on medical grounds. 25.  on 10 april 2010 the applicant was transferred to correctional colony no. 4 in the leningrad region. he was accommodated in a special unit for disabled prisoners. it appears that the conditions of his detention were similar to those in correctional colony no. 7. the applicant continued to receive benzonal from his wife and refused to take any substitutes. 26.  on 10 june 2010 the tosnenskiy town court dismissed the application for early release on medical grounds, referring to the gravity of the applicant’s offence, the fact that his health status had already been taken into account by the court which sentenced him, and, lastly, to the fact that the applicant’s medical condition had not worsened in detention.\n",
            "\n"
          ],
          "name": "stdout"
        }
      ]
    },
    {
      "cell_type": "code",
      "metadata": {
        "colab": {
          "base_uri": "https://localhost:8080/",
          "height": 419
        },
        "id": "tBYm-sNhPkLk",
        "outputId": "b9b6332e-1c66-44dc-e4de-8cb1c989a403"
      },
      "source": [
        "cluster_objects[1].sort_values(by=['defendants'])"
      ],
      "execution_count": null,
      "outputs": [
        {
          "output_type": "execute_result",
          "data": {
            "text/html": [
              "<div>\n",
              "<style scoped>\n",
              "    .dataframe tbody tr th:only-of-type {\n",
              "        vertical-align: middle;\n",
              "    }\n",
              "\n",
              "    .dataframe tbody tr th {\n",
              "        vertical-align: top;\n",
              "    }\n",
              "\n",
              "    .dataframe thead th {\n",
              "        text-align: right;\n",
              "    }\n",
              "</style>\n",
              "<table border=\"1\" class=\"dataframe\">\n",
              "  <thead>\n",
              "    <tr style=\"text-align: right;\">\n",
              "      <th></th>\n",
              "      <th>defendants</th>\n",
              "      <th>judgment_date</th>\n",
              "      <th>facts</th>\n",
              "      <th>allegedly_violated_articles</th>\n",
              "    </tr>\n",
              "  </thead>\n",
              "  <tbody>\n",
              "    <tr>\n",
              "      <th>359</th>\n",
              "      <td>[ALBANIA]</td>\n",
              "      <td>2016-10-06</td>\n",
              "      <td>4.  the applicant was born in 1947 and lives i...</td>\n",
              "      <td>[P1-1, 6]</td>\n",
              "    </tr>\n",
              "    <tr>\n",
              "      <th>504</th>\n",
              "      <td>[ALBANIA]</td>\n",
              "      <td>2016-12-08</td>\n",
              "      <td>4.  the applicant was born in 1952 and lives i...</td>\n",
              "      <td>[6]</td>\n",
              "    </tr>\n",
              "    <tr>\n",
              "      <th>60</th>\n",
              "      <td>[ALBANIA]</td>\n",
              "      <td>2016-03-17</td>\n",
              "      <td>10.  on 11 may 1995 the fier commission recogn...</td>\n",
              "      <td>[13, P1-1, 6]</td>\n",
              "    </tr>\n",
              "    <tr>\n",
              "      <th>424</th>\n",
              "      <td>[ARMENIA]</td>\n",
              "      <td>2016-10-27</td>\n",
              "      <td>6.  the applicants are a family who lived in y...</td>\n",
              "      <td>[P1-1, 8, 6]</td>\n",
              "    </tr>\n",
              "    <tr>\n",
              "      <th>31</th>\n",
              "      <td>[ARMENIA]</td>\n",
              "      <td>2016-02-25</td>\n",
              "      <td>5.  the applicant was born in 1954 and lives i...</td>\n",
              "      <td>[6]</td>\n",
              "    </tr>\n",
              "    <tr>\n",
              "      <th>...</th>\n",
              "      <td>...</td>\n",
              "      <td>...</td>\n",
              "      <td>...</td>\n",
              "      <td>...</td>\n",
              "    </tr>\n",
              "    <tr>\n",
              "      <th>395</th>\n",
              "      <td>[UKRAINE]</td>\n",
              "      <td>2016-10-13</td>\n",
              "      <td>5.  the applicant was born in 1975 and prior t...</td>\n",
              "      <td>[3, 34]</td>\n",
              "    </tr>\n",
              "    <tr>\n",
              "      <th>301</th>\n",
              "      <td>[UNITED KINGDOM]</td>\n",
              "      <td>2016-09-01</td>\n",
              "      <td>4.  the applicant was born in 1977 and lives i...</td>\n",
              "      <td>[5]</td>\n",
              "    </tr>\n",
              "    <tr>\n",
              "      <th>19</th>\n",
              "      <td>[UNITED KINGDOM]</td>\n",
              "      <td>2016-02-18</td>\n",
              "      <td>4.  on 16 september 1982 the applicant was sen...</td>\n",
              "      <td>[5]</td>\n",
              "    </tr>\n",
              "    <tr>\n",
              "      <th>967</th>\n",
              "      <td>[UNITED KINGDOM]</td>\n",
              "      <td>2017-09-14</td>\n",
              "      <td>4.  the facts of the case, as submitted by the...</td>\n",
              "      <td>[8]</td>\n",
              "    </tr>\n",
              "    <tr>\n",
              "      <th>369</th>\n",
              "      <td>[UNITED KINGDOM]</td>\n",
              "      <td>2016-10-06</td>\n",
              "      <td>5.  the applicant was born in 1982 and is deta...</td>\n",
              "      <td>[5, 3]</td>\n",
              "    </tr>\n",
              "  </tbody>\n",
              "</table>\n",
              "<p>277 rows × 4 columns</p>\n",
              "</div>"
            ],
            "text/plain": [
              "           defendants  ... allegedly_violated_articles\n",
              "359         [ALBANIA]  ...                   [P1-1, 6]\n",
              "504         [ALBANIA]  ...                         [6]\n",
              "60          [ALBANIA]  ...               [13, P1-1, 6]\n",
              "424         [ARMENIA]  ...                [P1-1, 8, 6]\n",
              "31          [ARMENIA]  ...                         [6]\n",
              "..                ...  ...                         ...\n",
              "395         [UKRAINE]  ...                     [3, 34]\n",
              "301  [UNITED KINGDOM]  ...                         [5]\n",
              "19   [UNITED KINGDOM]  ...                         [5]\n",
              "967  [UNITED KINGDOM]  ...                         [8]\n",
              "369  [UNITED KINGDOM]  ...                      [5, 3]\n",
              "\n",
              "[277 rows x 4 columns]"
            ]
          },
          "metadata": {
            "tags": []
          },
          "execution_count": 90
        }
      ]
    },
    {
      "cell_type": "code",
      "metadata": {
        "colab": {
          "base_uri": "https://localhost:8080/",
          "height": 419
        },
        "id": "bEuDTeTFbGwP",
        "outputId": "031ba49b-8290-4efb-f8ff-26888ec6aa8e"
      },
      "source": [
        "cluster_objects[2].sort_values(by=['defendants'])"
      ],
      "execution_count": null,
      "outputs": [
        {
          "output_type": "execute_result",
          "data": {
            "text/html": [
              "<div>\n",
              "<style scoped>\n",
              "    .dataframe tbody tr th:only-of-type {\n",
              "        vertical-align: middle;\n",
              "    }\n",
              "\n",
              "    .dataframe tbody tr th {\n",
              "        vertical-align: top;\n",
              "    }\n",
              "\n",
              "    .dataframe thead th {\n",
              "        text-align: right;\n",
              "    }\n",
              "</style>\n",
              "<table border=\"1\" class=\"dataframe\">\n",
              "  <thead>\n",
              "    <tr style=\"text-align: right;\">\n",
              "      <th></th>\n",
              "      <th>defendants</th>\n",
              "      <th>judgment_date</th>\n",
              "      <th>facts</th>\n",
              "      <th>allegedly_violated_articles</th>\n",
              "    </tr>\n",
              "  </thead>\n",
              "  <tbody>\n",
              "    <tr>\n",
              "      <th>100</th>\n",
              "      <td>[ALBANIA]</td>\n",
              "      <td>2016-04-07</td>\n",
              "      <td>5.  on 30 may 2003 the gjirokastra commission ...</td>\n",
              "      <td>[13, P1-1, 6]</td>\n",
              "    </tr>\n",
              "    <tr>\n",
              "      <th>114</th>\n",
              "      <td>[ALBANIA]</td>\n",
              "      <td>2016-04-21</td>\n",
              "      <td>7.  the applicant was born in 1951 and lives i...</td>\n",
              "      <td>[13, P1-1, 46, 6, 34]</td>\n",
              "    </tr>\n",
              "    <tr>\n",
              "      <th>368</th>\n",
              "      <td>[ALBANIA]</td>\n",
              "      <td>2016-10-06</td>\n",
              "      <td>6.  the applicant was born in 1968 and lives i...</td>\n",
              "      <td>[13, 6]</td>\n",
              "    </tr>\n",
              "    <tr>\n",
              "      <th>503</th>\n",
              "      <td>[ALBANIA]</td>\n",
              "      <td>2016-12-08</td>\n",
              "      <td>4.  the applicant was born in 1958 and lives i...</td>\n",
              "      <td>[P1-1, 6]</td>\n",
              "    </tr>\n",
              "    <tr>\n",
              "      <th>462</th>\n",
              "      <td>[ARMENIA]</td>\n",
              "      <td>2016-11-17</td>\n",
              "      <td>5.  the applicants, mr vladimir karapetyan (th...</td>\n",
              "      <td>[10]</td>\n",
              "    </tr>\n",
              "    <tr>\n",
              "      <th>...</th>\n",
              "      <td>...</td>\n",
              "      <td>...</td>\n",
              "      <td>...</td>\n",
              "      <td>...</td>\n",
              "    </tr>\n",
              "    <tr>\n",
              "      <th>868</th>\n",
              "      <td>[UKRAINE]</td>\n",
              "      <td>2017-06-27</td>\n",
              "      <td>5.  in disputes between the applicants and the...</td>\n",
              "      <td>[6]</td>\n",
              "    </tr>\n",
              "    <tr>\n",
              "      <th>298</th>\n",
              "      <td>[UKRAINE]</td>\n",
              "      <td>2016-09-01</td>\n",
              "      <td>5.  the first applicant was born in 1940. she ...</td>\n",
              "      <td>[13, 2, 6, 34]</td>\n",
              "    </tr>\n",
              "    <tr>\n",
              "      <th>558</th>\n",
              "      <td>[UNITED KINGDOM]</td>\n",
              "      <td>2017-01-12</td>\n",
              "      <td>4.  the applicant was born in 1942 and lives i...</td>\n",
              "      <td>[6]</td>\n",
              "    </tr>\n",
              "    <tr>\n",
              "      <th>313</th>\n",
              "      <td>[UNITED KINGDOM]</td>\n",
              "      <td>2016-09-15</td>\n",
              "      <td>4.  the applicant was born in 1945 and is curr...</td>\n",
              "      <td>[6]</td>\n",
              "    </tr>\n",
              "    <tr>\n",
              "      <th>316</th>\n",
              "      <td>[UNITED KINGDOM]</td>\n",
              "      <td>2016-09-15</td>\n",
              "      <td>4.  the facts of the case, as submitted by the...</td>\n",
              "      <td>[14, 34]</td>\n",
              "    </tr>\n",
              "  </tbody>\n",
              "</table>\n",
              "<p>252 rows × 4 columns</p>\n",
              "</div>"
            ],
            "text/plain": [
              "           defendants  ... allegedly_violated_articles\n",
              "100         [ALBANIA]  ...               [13, P1-1, 6]\n",
              "114         [ALBANIA]  ...       [13, P1-1, 46, 6, 34]\n",
              "368         [ALBANIA]  ...                     [13, 6]\n",
              "503         [ALBANIA]  ...                   [P1-1, 6]\n",
              "462         [ARMENIA]  ...                        [10]\n",
              "..                ...  ...                         ...\n",
              "868         [UKRAINE]  ...                         [6]\n",
              "298         [UKRAINE]  ...              [13, 2, 6, 34]\n",
              "558  [UNITED KINGDOM]  ...                         [6]\n",
              "313  [UNITED KINGDOM]  ...                         [6]\n",
              "316  [UNITED KINGDOM]  ...                    [14, 34]\n",
              "\n",
              "[252 rows x 4 columns]"
            ]
          },
          "metadata": {
            "tags": []
          },
          "execution_count": 91
        }
      ]
    },
    {
      "cell_type": "code",
      "metadata": {
        "colab": {
          "base_uri": "https://localhost:8080/",
          "height": 419
        },
        "id": "3ZvpQ6u9cRvp",
        "outputId": "e91238ca-542f-4c5f-c637-d8bf0364e3c7"
      },
      "source": [
        "cluster_objects[3].sort_values(by=['defendants'])"
      ],
      "execution_count": null,
      "outputs": [
        {
          "output_type": "execute_result",
          "data": {
            "text/html": [
              "<div>\n",
              "<style scoped>\n",
              "    .dataframe tbody tr th:only-of-type {\n",
              "        vertical-align: middle;\n",
              "    }\n",
              "\n",
              "    .dataframe tbody tr th {\n",
              "        vertical-align: top;\n",
              "    }\n",
              "\n",
              "    .dataframe thead th {\n",
              "        text-align: right;\n",
              "    }\n",
              "</style>\n",
              "<table border=\"1\" class=\"dataframe\">\n",
              "  <thead>\n",
              "    <tr style=\"text-align: right;\">\n",
              "      <th></th>\n",
              "      <th>defendants</th>\n",
              "      <th>judgment_date</th>\n",
              "      <th>facts</th>\n",
              "      <th>allegedly_violated_articles</th>\n",
              "    </tr>\n",
              "  </thead>\n",
              "  <tbody>\n",
              "    <tr>\n",
              "      <th>695</th>\n",
              "      <td>[]</td>\n",
              "      <td>2017-03-23</td>\n",
              "      <td>5.  the applicant was born in 1990. 6.  the ap...</td>\n",
              "      <td>[P4-2, 8]</td>\n",
              "    </tr>\n",
              "    <tr>\n",
              "      <th>425</th>\n",
              "      <td>[ARMENIA]</td>\n",
              "      <td>2016-10-27</td>\n",
              "      <td>5.  on 7 october 2000 s.m. was stabbed by two ...</td>\n",
              "      <td>[6]</td>\n",
              "    </tr>\n",
              "    <tr>\n",
              "      <th>757</th>\n",
              "      <td>[ARMENIA]</td>\n",
              "      <td>2017-04-27</td>\n",
              "      <td>5.  the present case concerns the applicant’s ...</td>\n",
              "      <td>[6]</td>\n",
              "    </tr>\n",
              "    <tr>\n",
              "      <th>966</th>\n",
              "      <td>[ARMENIA]</td>\n",
              "      <td>2017-09-14</td>\n",
              "      <td>5.  the applicant was born in 1987 and was ser...</td>\n",
              "      <td>[3]</td>\n",
              "    </tr>\n",
              "    <tr>\n",
              "      <th>481</th>\n",
              "      <td>[ARMENIA]</td>\n",
              "      <td>2016-11-24</td>\n",
              "      <td>5.  the applicant was born in 1976 and is curr...</td>\n",
              "      <td>[6]</td>\n",
              "    </tr>\n",
              "    <tr>\n",
              "      <th>...</th>\n",
              "      <td>...</td>\n",
              "      <td>...</td>\n",
              "      <td>...</td>\n",
              "      <td>...</td>\n",
              "    </tr>\n",
              "    <tr>\n",
              "      <th>530</th>\n",
              "      <td>[UKRAINE]</td>\n",
              "      <td>2016-12-15</td>\n",
              "      <td>5.  on 9 june 2004, the applicant, 69 at the t...</td>\n",
              "      <td>[13, 3]</td>\n",
              "    </tr>\n",
              "    <tr>\n",
              "      <th>330</th>\n",
              "      <td>[UKRAINE]</td>\n",
              "      <td>2016-09-22</td>\n",
              "      <td>5.  the applicant was born in 1973 and is curr...</td>\n",
              "      <td>[5, 13, 3, 6, 34]</td>\n",
              "    </tr>\n",
              "    <tr>\n",
              "      <th>3</th>\n",
              "      <td>[UNITED KINGDOM]</td>\n",
              "      <td>2016-02-11</td>\n",
              "      <td>6.  the applicant was born in 1977 and lives i...</td>\n",
              "      <td>[7]</td>\n",
              "    </tr>\n",
              "    <tr>\n",
              "      <th>58</th>\n",
              "      <td>[UNITED KINGDOM]</td>\n",
              "      <td>2016-03-17</td>\n",
              "      <td>5.  the applicant was born in 1954 and lives i...</td>\n",
              "      <td>[5, 13, 6, 34]</td>\n",
              "    </tr>\n",
              "    <tr>\n",
              "      <th>225</th>\n",
              "      <td>[UNITED KINGDOM]</td>\n",
              "      <td>2016-06-28</td>\n",
              "      <td>4.  on 16 february 1998 r.m. reported his ex-w...</td>\n",
              "      <td>[6]</td>\n",
              "    </tr>\n",
              "  </tbody>\n",
              "</table>\n",
              "<p>248 rows × 4 columns</p>\n",
              "</div>"
            ],
            "text/plain": [
              "           defendants  ... allegedly_violated_articles\n",
              "695                []  ...                   [P4-2, 8]\n",
              "425         [ARMENIA]  ...                         [6]\n",
              "757         [ARMENIA]  ...                         [6]\n",
              "966         [ARMENIA]  ...                         [3]\n",
              "481         [ARMENIA]  ...                         [6]\n",
              "..                ...  ...                         ...\n",
              "530         [UKRAINE]  ...                     [13, 3]\n",
              "330         [UKRAINE]  ...           [5, 13, 3, 6, 34]\n",
              "3    [UNITED KINGDOM]  ...                         [7]\n",
              "58   [UNITED KINGDOM]  ...              [5, 13, 6, 34]\n",
              "225  [UNITED KINGDOM]  ...                         [6]\n",
              "\n",
              "[248 rows x 4 columns]"
            ]
          },
          "metadata": {
            "tags": []
          },
          "execution_count": 99
        }
      ]
    },
    {
      "cell_type": "code",
      "metadata": {
        "colab": {
          "base_uri": "https://localhost:8080/",
          "height": 419
        },
        "id": "Z63iBEdEcUKo",
        "outputId": "37dde275-ba07-44f8-bef4-3314fa506b09"
      },
      "source": [
        "cluster_objects[4].sort_values(by=['defendants'])"
      ],
      "execution_count": null,
      "outputs": [
        {
          "output_type": "execute_result",
          "data": {
            "text/html": [
              "<div>\n",
              "<style scoped>\n",
              "    .dataframe tbody tr th:only-of-type {\n",
              "        vertical-align: middle;\n",
              "    }\n",
              "\n",
              "    .dataframe tbody tr th {\n",
              "        vertical-align: top;\n",
              "    }\n",
              "\n",
              "    .dataframe thead th {\n",
              "        text-align: right;\n",
              "    }\n",
              "</style>\n",
              "<table border=\"1\" class=\"dataframe\">\n",
              "  <thead>\n",
              "    <tr style=\"text-align: right;\">\n",
              "      <th></th>\n",
              "      <th>defendants</th>\n",
              "      <th>judgment_date</th>\n",
              "      <th>facts</th>\n",
              "      <th>allegedly_violated_articles</th>\n",
              "    </tr>\n",
              "  </thead>\n",
              "  <tbody>\n",
              "    <tr>\n",
              "      <th>86</th>\n",
              "      <td>[ARMENIA]</td>\n",
              "      <td>2016-03-31</td>\n",
              "      <td>5.  the applicant was born in 1969 and lives i...</td>\n",
              "      <td>[P1-1, 6]</td>\n",
              "    </tr>\n",
              "    <tr>\n",
              "      <th>658</th>\n",
              "      <td>[AUSTRIA]</td>\n",
              "      <td>2017-02-28</td>\n",
              "      <td>4.  the applicant was born in 1965 and lives i...</td>\n",
              "      <td>[6]</td>\n",
              "    </tr>\n",
              "    <tr>\n",
              "      <th>148</th>\n",
              "      <td>[AUSTRIA]</td>\n",
              "      <td>2016-05-17</td>\n",
              "      <td>5.  the applicant, ms gabriele fürst-pfeifer, ...</td>\n",
              "      <td>[10, 8]</td>\n",
              "    </tr>\n",
              "    <tr>\n",
              "      <th>741</th>\n",
              "      <td>[AUSTRIA]</td>\n",
              "      <td>2017-04-11</td>\n",
              "      <td>4.  the applicant was born in 1939 and lives i...</td>\n",
              "      <td>[6]</td>\n",
              "    </tr>\n",
              "    <tr>\n",
              "      <th>416</th>\n",
              "      <td>[AUSTRIA]</td>\n",
              "      <td>2016-10-25</td>\n",
              "      <td>5.  the applicant company is a limited liabili...</td>\n",
              "      <td>[10]</td>\n",
              "    </tr>\n",
              "    <tr>\n",
              "      <th>...</th>\n",
              "      <td>...</td>\n",
              "      <td>...</td>\n",
              "      <td>...</td>\n",
              "      <td>...</td>\n",
              "    </tr>\n",
              "    <tr>\n",
              "      <th>151</th>\n",
              "      <td>[UNITED KINGDOM]</td>\n",
              "      <td>2016-05-19</td>\n",
              "      <td>4.  the applicant was born in 1971 and lives i...</td>\n",
              "      <td>[5]</td>\n",
              "    </tr>\n",
              "    <tr>\n",
              "      <th>861</th>\n",
              "      <td>[UNITED KINGDOM]</td>\n",
              "      <td>2017-06-22</td>\n",
              "      <td>5.  the applicant was born in zimbabwe and liv...</td>\n",
              "      <td>[5]</td>\n",
              "    </tr>\n",
              "    <tr>\n",
              "      <th>661</th>\n",
              "      <td>[UNITED KINGDOM]</td>\n",
              "      <td>2017-03-02</td>\n",
              "      <td>4.  the applicant was born in 1977 and lives i...</td>\n",
              "      <td>[5, 34]</td>\n",
              "    </tr>\n",
              "    <tr>\n",
              "      <th>89</th>\n",
              "      <td>[UNITED KINGDOM]</td>\n",
              "      <td>2016-03-31</td>\n",
              "      <td>3.  the present case concerns the applicant’s ...</td>\n",
              "      <td>[6]</td>\n",
              "    </tr>\n",
              "    <tr>\n",
              "      <th>84</th>\n",
              "      <td>[UNITED KINGDOM]</td>\n",
              "      <td>2016-03-30</td>\n",
              "      <td>12.  the applicant was born in 1974 and lives ...</td>\n",
              "      <td>[2]</td>\n",
              "    </tr>\n",
              "  </tbody>\n",
              "</table>\n",
              "<p>154 rows × 4 columns</p>\n",
              "</div>"
            ],
            "text/plain": [
              "           defendants  ... allegedly_violated_articles\n",
              "86          [ARMENIA]  ...                   [P1-1, 6]\n",
              "658         [AUSTRIA]  ...                         [6]\n",
              "148         [AUSTRIA]  ...                     [10, 8]\n",
              "741         [AUSTRIA]  ...                         [6]\n",
              "416         [AUSTRIA]  ...                        [10]\n",
              "..                ...  ...                         ...\n",
              "151  [UNITED KINGDOM]  ...                         [5]\n",
              "861  [UNITED KINGDOM]  ...                         [5]\n",
              "661  [UNITED KINGDOM]  ...                     [5, 34]\n",
              "89   [UNITED KINGDOM]  ...                         [6]\n",
              "84   [UNITED KINGDOM]  ...                         [2]\n",
              "\n",
              "[154 rows x 4 columns]"
            ]
          },
          "metadata": {
            "tags": []
          },
          "execution_count": 100
        }
      ]
    }
  ]
}