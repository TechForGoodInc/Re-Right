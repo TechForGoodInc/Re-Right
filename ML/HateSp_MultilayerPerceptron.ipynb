{
  "nbformat": 4,
  "nbformat_minor": 0,
  "metadata": {
    "colab": {
      "name": "Hate Speech - MLP.ipynb",
      "provenance": [],
      "collapsed_sections": []
    },
    "kernelspec": {
      "display_name": "Python 3",
      "name": "python3"
    },
    "language_info": {
      "name": "python"
    }
  },
  "cells": [
    {
      "cell_type": "markdown",
      "metadata": {
        "id": "J81lE23WxIQP"
      },
      "source": [
        "# **Hate Speech Detector using MLP**"
      ]
    },
    {
      "cell_type": "markdown",
      "metadata": {
        "id": "D-R00RrEjhjE"
      },
      "source": [
        "**Shayling Zhao**"
      ]
    },
    {
      "cell_type": "code",
      "metadata": {
        "colab": {
          "base_uri": "https://localhost:8080/"
        },
        "id": "0vx92Ik_b0jO",
        "outputId": "71692572-b932-4c2f-9838-36f2f73241f9"
      },
      "source": [
        "import pandas as pd\n",
        "import numpy as np\n",
        "from sklearn.model_selection import train_test_split\n",
        "from nltk.corpus import stopwords\n",
        "from sklearn.feature_extraction.text import TfidfVectorizer\n",
        "import nltk\n",
        "nltk.download('stopwords')\n",
        "import math\n",
        "from sklearn.metrics import accuracy_score\n",
        "from sklearn.metrics import precision_score, recall_score, f1_score\n",
        "from sklearn.metrics import confusion_matrix"
      ],
      "execution_count": null,
      "outputs": [
        {
          "output_type": "stream",
          "text": [
            "[nltk_data] Downloading package stopwords to /root/nltk_data...\n",
            "[nltk_data]   Package stopwords is already up-to-date!\n"
          ],
          "name": "stdout"
        }
      ]
    },
    {
      "cell_type": "markdown",
      "metadata": {
        "id": "MgVpokztxI-8"
      },
      "source": [
        "**Reading in CSV file using pandas and converting author column to categorical data. Displaying first few rows and counts:**\n"
      ]
    },
    {
      "cell_type": "code",
      "metadata": {
        "colab": {
          "base_uri": "https://localhost:8080/"
        },
        "id": "FopJNTtfmk_X",
        "outputId": "528093ad-3be9-43e4-b9c2-07da6b96423f"
      },
      "source": [
        "data = pd.read_csv(\"hatespeech.csv\") # Read in csv file\n",
        "data[\"label\"] = data[\"label\"].astype('category') # Convert to category\n",
        "print(data.dtypes) # Check data types\n",
        "data.head() # Print first few rows\n",
        "print(\"\\n\")\n",
        "print(data.head()) # Printing first few lines of file\n",
        "print(\"\\n\")\n",
        "count = data['label'].value_counts() # Running count of type freqency\n",
        "print('Frequency of Hate Speech (1) and No Hate Speech (0):\\n\\n', count) "
      ],
      "execution_count": null,
      "outputs": [
        {
          "output_type": "stream",
          "text": [
            "Unnamed: 0       int64\n",
            "text            object\n",
            "label         category\n",
            "dtype: object\n",
            "\n",
            "\n",
            "   Unnamed: 0                                               text label\n",
            "0           0  It should be legal for a husband to rape his wife     1\n",
            "1           1                            dalits are lowlife scum     1\n",
            "2           2                                dalits are lowlives     1\n",
            "3           3  It was a better world when women dare not ques...     1\n",
            "4           4  I don't work this hard so that those immigrant...     1\n",
            "\n",
            "\n",
            "Frequency of Hate Speech (1) and No Hate Speech (0):\n",
            "\n",
            " 0    48219\n",
            "1    24366\n",
            "Name: label, dtype: int64\n"
          ],
          "name": "stdout"
        }
      ]
    },
    {
      "cell_type": "markdown",
      "metadata": {
        "id": "yltfJko9BTPI"
      },
      "source": [
        "**Dividing into training and testing data with 80% in traing data, using random state 1234. Display the shape of train and test:**"
      ]
    },
    {
      "cell_type": "code",
      "metadata": {
        "colab": {
          "base_uri": "https://localhost:8080/"
        },
        "id": "P910cdZNBQIg",
        "outputId": "a6bfad3f-374d-482e-9ea2-ccae9d9484ae"
      },
      "source": [
        "X = data.text # Setting text as the X variable\n",
        "y = data.label # Setting the category as the y variable\n",
        "X_train, X_test, y_train, y_test = train_test_split(X, y, \n",
        "    test_size = 0.2, train_size = 0.8, random_state = 1234)\n",
        "print(X_train.shape) # shape of train\n",
        "print(X_test.shape) # shape of test"
      ],
      "execution_count": null,
      "outputs": [
        {
          "output_type": "stream",
          "text": [
            "(58068,)\n",
            "(14517,)\n"
          ],
          "name": "stdout"
        }
      ]
    },
    {
      "cell_type": "markdown",
      "metadata": {
        "id": "R2WdkKa-99Eo"
      },
      "source": [
        "**Processing text by removing stop words and performing tf-idf vectorization (transforms text into data and scales the data). Fitting to the training data only and applying to train and test. Outputting the training and test set shape:**"
      ]
    },
    {
      "cell_type": "code",
      "metadata": {
        "colab": {
          "base_uri": "https://localhost:8080/"
        },
        "id": "VbfbRgpnMJdT",
        "outputId": "ea2ab9e6-004a-4188-c70f-9db23ee1784d"
      },
      "source": [
        "stopwords = set(stopwords.words('english')) # Set stopwords\n",
        "# Removing stopwords when applying vectorizer\n",
        "vectorizer = TfidfVectorizer(stop_words=stopwords, \n",
        "                     max_features=1000, ngram_range=(1,2))\n",
        "# Fitting and transforming training data\n",
        "X_train = vectorizer.fit_transform(X_train)\n",
        "X_test = vectorizer.transform(X_test) # Transforming testing data\n",
        "print(X_train.shape) # shape of train\n",
        "print(X_test.shape) # shape of test"
      ],
      "execution_count": null,
      "outputs": [
        {
          "output_type": "stream",
          "text": [
            "(58068, 1000)\n",
            "(14517, 1000)\n"
          ],
          "name": "stdout"
        }
      ]
    },
    {
      "cell_type": "markdown",
      "metadata": {
        "id": "TGz_30IjuVXV"
      },
      "source": [
        "# **Trying Neural Network using MLP and different topologies:**"
      ]
    },
    {
      "cell_type": "markdown",
      "metadata": {
        "id": "ezidG6Xwh3n-"
      },
      "source": [
        "**We see here that accuracy is pretty high (around 77%):**"
      ]
    },
    {
      "cell_type": "code",
      "metadata": {
        "colab": {
          "base_uri": "https://localhost:8080/"
        },
        "id": "wsSmv0pyuULK",
        "outputId": "59109fed-c815-43aa-e840-27288dd0bde6"
      },
      "source": [
        "from sklearn.neural_network import MLPClassifier\n",
        "from sklearn.metrics import classification_report\n",
        "\n",
        "mlpnn = MLPClassifier(solver='adam', alpha=1e-5, max_iter=100,\n",
        "                   hidden_layer_sizes=(15, 8, 4), random_state=1)\n",
        "mlpnn.fit(X_train, y_train)\n",
        "\n",
        "pred = classifier.predict(X_test)\n",
        "print('accuracy score: ', accuracy_score(y_test, pred))\n",
        "print('\\n')\n",
        "print('Classification Report:\\n', classification_report(y_test, pred, zero_division=1))"
      ],
      "execution_count": null,
      "outputs": [
        {
          "output_type": "stream",
          "text": [
            "accuracy score:  0.765447406488944\n",
            "\n",
            "\n",
            "Classification Report:\n",
            "               precision    recall  f1-score   support\n",
            "\n",
            "           0       0.81      0.84      0.83      9633\n",
            "           1       0.66      0.61      0.64      4884\n",
            "\n",
            "    accuracy                           0.77     14517\n",
            "   macro avg       0.74      0.73      0.73     14517\n",
            "weighted avg       0.76      0.77      0.76     14517\n",
            "\n"
          ],
          "name": "stdout"
        },
        {
          "output_type": "stream",
          "text": [
            "/usr/local/lib/python3.7/dist-packages/sklearn/neural_network/_multilayer_perceptron.py:571: ConvergenceWarning: Stochastic Optimizer: Maximum iterations (100) reached and the optimization hasn't converged yet.\n",
            "  % self.max_iter, ConvergenceWarning)\n"
          ],
          "name": "stderr"
        }
      ]
    },
    {
      "cell_type": "markdown",
      "metadata": {
        "id": "N0mvu6jhergc"
      },
      "source": [
        "**Adding more neurons to each layer lowers accuracy score by only about 0.0003:**"
      ]
    },
    {
      "cell_type": "code",
      "metadata": {
        "colab": {
          "base_uri": "https://localhost:8080/"
        },
        "id": "5t9l4RmP2zz-",
        "outputId": "8fbc80d3-443c-4640-beaa-b4603a901082"
      },
      "source": [
        "mlpnn = MLPClassifier(solver='adam', alpha=1e-5, max_iter=50,\n",
        "                   hidden_layer_sizes=(15, 8, 4, 2), random_state=1)\n",
        "mlpnn.fit(X_train, y_train)\n",
        "\n",
        "pred = classifier.predict(X_test)\n",
        "print('accuracy score: ', accuracy_score(y_test, pred))\n",
        "print('\\n')\n",
        "print('Classification Report:\\n', classification_report(y_test, pred, zero_division=1))"
      ],
      "execution_count": null,
      "outputs": [
        {
          "output_type": "stream",
          "text": [
            "accuracy score:  0.7651029827099263\n",
            "\n",
            "\n",
            "Classification Report:\n",
            "               precision    recall  f1-score   support\n",
            "\n",
            "           0       0.84      0.80      0.82      9633\n",
            "           1       0.64      0.70      0.67      4884\n",
            "\n",
            "    accuracy                           0.77     14517\n",
            "   macro avg       0.74      0.75      0.74     14517\n",
            "weighted avg       0.77      0.77      0.77     14517\n",
            "\n"
          ],
          "name": "stdout"
        },
        {
          "output_type": "stream",
          "text": [
            "/usr/local/lib/python3.7/dist-packages/sklearn/neural_network/_multilayer_perceptron.py:571: ConvergenceWarning: Stochastic Optimizer: Maximum iterations (50) reached and the optimization hasn't converged yet.\n",
            "  % self.max_iter, ConvergenceWarning)\n"
          ],
          "name": "stderr"
        }
      ]
    },
    {
      "cell_type": "markdown",
      "metadata": {
        "id": "66QZ0z_Mg7zy"
      },
      "source": [
        "**Adding more neurons to each layer increases accuracy score only by 0.01:**"
      ]
    },
    {
      "cell_type": "code",
      "metadata": {
        "colab": {
          "base_uri": "https://localhost:8080/"
        },
        "id": "E_2Agr23fgjX",
        "outputId": "3495ec0f-90f9-48bb-f53a-74617733a086"
      },
      "source": [
        "mlpnn = MLPClassifier(solver='adam', alpha=1e-5, max_iter=50,\n",
        "                  hidden_layer_sizes=(30, 20, 15), random_state=1)\n",
        "mlpnn.fit(X_train, y_train)\n",
        "\n",
        "pred = classifier.predict(X_test)\n",
        "print('accuracy score: ', accuracy_score(y_test, pred))\n",
        "print('\\n')\n",
        "print('Classification Report:\\n', classification_report(y_test, pred, zero_division=1))\n"
      ],
      "execution_count": null,
      "outputs": [
        {
          "output_type": "stream",
          "text": [
            "accuracy score:  0.7560101949438589\n",
            "\n",
            "\n",
            "Classification Report:\n",
            "               precision    recall  f1-score   support\n",
            "\n",
            "           0       0.81      0.83      0.82      9633\n",
            "           1       0.64      0.61      0.63      4884\n",
            "\n",
            "    accuracy                           0.76     14517\n",
            "   macro avg       0.73      0.72      0.72     14517\n",
            "weighted avg       0.75      0.76      0.75     14517\n",
            "\n"
          ],
          "name": "stdout"
        },
        {
          "output_type": "stream",
          "text": [
            "/usr/local/lib/python3.7/dist-packages/sklearn/neural_network/_multilayer_perceptron.py:571: ConvergenceWarning: Stochastic Optimizer: Maximum iterations (50) reached and the optimization hasn't converged yet.\n",
            "  % self.max_iter, ConvergenceWarning)\n"
          ],
          "name": "stderr"
        }
      ]
    },
    {
      "cell_type": "markdown",
      "metadata": {
        "id": "T2gg4L_-hp2J"
      },
      "source": [
        "**Now let's have both a lot of neurons as well as 4 layers and see what happens:**"
      ]
    },
    {
      "cell_type": "code",
      "metadata": {
        "colab": {
          "base_uri": "https://localhost:8080/"
        },
        "id": "rn_-v2Lkinb7",
        "outputId": "c388b665-8d9b-4633-aeca-5f0df5b331ff"
      },
      "source": [
        "mlpnn = MLPClassifier(solver='adam', alpha=1e-5, max_iter=50,\n",
        "                hidden_layer_sizes=(30, 20, 15, 10), random_state=1)\n",
        "mlpnn.fit(X_train, y_train)\n",
        "\n",
        "pred = classifier.predict(X_test)\n",
        "print('accuracy score: ', accuracy_score(y_test, pred))\n",
        "print('\\n')\n",
        "print('Classification Report:\\n', classification_report(y_test, pred, zero_division=1))"
      ],
      "execution_count": null,
      "outputs": [
        {
          "output_type": "stream",
          "text": [
            "accuracy score:  0.765447406488944\n",
            "\n",
            "\n",
            "Classification Report:\n",
            "               precision    recall  f1-score   support\n",
            "\n",
            "           0       0.81      0.84      0.83      9633\n",
            "           1       0.66      0.61      0.64      4884\n",
            "\n",
            "    accuracy                           0.77     14517\n",
            "   macro avg       0.74      0.73      0.73     14517\n",
            "weighted avg       0.76      0.77      0.76     14517\n",
            "\n"
          ],
          "name": "stdout"
        },
        {
          "output_type": "stream",
          "text": [
            "/usr/local/lib/python3.7/dist-packages/sklearn/neural_network/_multilayer_perceptron.py:573: UserWarning: Training interrupted by user.\n",
            "  warnings.warn(\"Training interrupted by user.\")\n"
          ],
          "name": "stderr"
        }
      ]
    },
    {
      "cell_type": "markdown",
      "metadata": {
        "id": "-8Y9qGr2K1h-"
      },
      "source": [
        "# **Plotting ROC Curve**"
      ]
    },
    {
      "cell_type": "markdown",
      "metadata": {
        "id": "GMtzSwOwKxMm"
      },
      "source": [
        "**The \"True Positive Rates\" (also known as \"sensitivity\") are on the Y-axis, and the \"False Positive Rates\" (also known as 1-specificity) are on the X-axis.**\n",
        "\n",
        "**ROC = Receiver Operating Characteristic.**\n",
        "\n",
        "**AUROC = Area under the ROC curve.**"
      ]
    },
    {
      "cell_type": "markdown",
      "metadata": {
        "id": "3MZb0rHpLy06"
      },
      "source": [
        "**Prediction Probability Matrix:**"
      ]
    },
    {
      "cell_type": "code",
      "metadata": {
        "id": "Rsw2XdUIL49A"
      },
      "source": [
        "worst_probs = [0 for _ in range(len(y_test))] # This is a baseline. Will contain 0, or worst case scenario.\n",
        "mlpnn_probs = mlpnn.predict_proba(X_test) # Probability of predicted values by MLP model\n",
        "mlpnn_probs = mlpnn_probs[:, 1] # Keep probabilities from positive outcomes"
      ],
      "execution_count": null,
      "outputs": []
    },
    {
      "cell_type": "markdown",
      "metadata": {
        "id": "zrjiMttDM1w6"
      },
      "source": [
        "**Computing AUROC and ROC curve values:**"
      ]
    },
    {
      "cell_type": "code",
      "metadata": {
        "colab": {
          "base_uri": "https://localhost:8080/"
        },
        "id": "NOq46QxGM-q8",
        "outputId": "db3a134f-643e-49b6-bd22-04a1d23336d9"
      },
      "source": [
        "from sklearn.metrics import roc_curve, roc_auc_score\n",
        "\n",
        "# Computing AUROC:\n",
        "worst_auc = roc_auc_score(y_test, worst_probs)\n",
        "mlpnn_auc = roc_auc_score(y_test, mlpnn_probs)\n",
        "\n",
        "# Printing AUROC Scores:\n",
        "print('Random chance predicion aka worst scenario: AUROC = %.3f' % (worst_auc))\n",
        "print('Random MLP: AUROC = %.3f' % (mlpnn_auc))"
      ],
      "execution_count": null,
      "outputs": [
        {
          "output_type": "stream",
          "text": [
            "Random chance predicion aka worst scenario: AUROC = 0.500\n",
            "Random MLP: AUROC = 0.852\n"
          ],
          "name": "stdout"
        }
      ]
    },
    {
      "cell_type": "markdown",
      "metadata": {
        "id": "QOrm40iDOjII"
      },
      "source": [
        "**ROC Curve:**"
      ]
    },
    {
      "cell_type": "code",
      "metadata": {
        "colab": {
          "base_uri": "https://localhost:8080/",
          "height": 295
        },
        "id": "If6vLOXEOo0e",
        "outputId": "a9213a5e-3b46-4e67-b139-c1f48e5e8d30"
      },
      "source": [
        "# Calculating the curve with false positive rates and true positive rates:\n",
        "worst_fpr, worst_tpr, _ = roc_curve(y_test, worst_probs)\n",
        "mlpnn_fpr, mlpnn_tpr, _ = roc_curve(y_test, mlpnn_probs)\n",
        "\n",
        "#Plotting the curve:\n",
        "import matplotlib.pyplot as plt\n",
        "plt.plot(worst_fpr, worst_tpr, linestyle='--', label='Random Prediction (AUROC = %0.3f)' % worst_auc)\n",
        "plt.plot(mlpnn_fpr, mlpnn_tpr, marker='.', label='Multilayer Perceptron (AUROC = %0.3f)' % mlpnn_auc)\n",
        "plt.title('ROC Plot') # Title\n",
        "plt.xlabel('False Positive Rate') # X-axis label\n",
        "plt.ylabel('True Positive Rate') # Y-axis label\n",
        "plt.legend() # Show Legend\n",
        "plt.show() # Show Plot"
      ],
      "execution_count": null,
      "outputs": [
        {
          "output_type": "display_data",
          "data": {
            "image/png": "[encoded data removed]",
            "text/plain": [
              "<Figure size 432x288 with 1 Axes>"
            ]
          },
          "metadata": {
            "tags": [],
            "needs_background": "light"
          }
        }
      ]
    }
  ]
}